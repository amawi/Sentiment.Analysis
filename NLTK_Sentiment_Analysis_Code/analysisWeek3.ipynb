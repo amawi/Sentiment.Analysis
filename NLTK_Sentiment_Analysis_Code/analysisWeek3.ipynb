{
 "cells": [
  {
   "cell_type": "code",
   "execution_count": 1,
   "metadata": {
    "collapsed": true,
    "ExecuteTime": {
     "start_time": "2023-04-22T13:40:37.480691Z",
     "end_time": "2023-04-22T13:40:38.530022Z"
    }
   },
   "outputs": [
    {
     "name": "stderr",
     "output_type": "stream",
     "text": [
      "[nltk_data] Downloading package vader_lexicon to\n",
      "[nltk_data]     C:\\Users\\Abdullah\\AppData\\Roaming\\nltk_data...\n",
      "[nltk_data]   Package vader_lexicon is already up-to-date!\n"
     ]
    }
   ],
   "source": [
    "import nltk\n",
    "nltk.download('vader_lexicon')\n",
    "from nltk.sentiment import SentimentIntensityAnalyzer\n",
    "\n",
    "import numpy as np"
   ]
  },
  {
   "cell_type": "code",
   "execution_count": 2,
   "outputs": [],
   "source": [
    "analyzer = SentimentIntensityAnalyzer()\n"
   ],
   "metadata": {
    "collapsed": false,
    "ExecuteTime": {
     "start_time": "2023-04-22T13:40:38.531023Z",
     "end_time": "2023-04-22T13:40:38.540703Z"
    }
   }
  },
  {
   "cell_type": "markdown",
   "source": [
    "## We start the analysis for each student"
   ],
   "metadata": {
    "collapsed": false
   }
  },
  {
   "cell_type": "markdown",
   "source": [
    "### Student 1"
   ],
   "metadata": {
    "collapsed": false
   }
  },
  {
   "cell_type": "code",
   "execution_count": 3,
   "outputs": [],
   "source": [
    "st1txt = \"This was very knowledge able chapter with very well explained content\""
   ],
   "metadata": {
    "collapsed": false,
    "ExecuteTime": {
     "start_time": "2023-04-22T13:40:38.541999Z",
     "end_time": "2023-04-22T13:40:38.543506Z"
    }
   }
  },
  {
   "cell_type": "code",
   "execution_count": 4,
   "outputs": [],
   "source": [
    "scores1 = analyzer.polarity_scores(st1txt)"
   ],
   "metadata": {
    "collapsed": false,
    "ExecuteTime": {
     "start_time": "2023-04-22T13:40:38.544507Z",
     "end_time": "2023-04-22T13:40:38.547939Z"
    }
   }
  },
  {
   "cell_type": "code",
   "execution_count": 5,
   "outputs": [
    {
     "name": "stdout",
     "output_type": "stream",
     "text": [
      "{'neg': 0.0, 'neu': 0.807, 'pos': 0.193, 'compound': 0.3384}\n"
     ]
    }
   ],
   "source": [
    "print(scores1)"
   ],
   "metadata": {
    "collapsed": false,
    "ExecuteTime": {
     "start_time": "2023-04-22T13:40:38.548940Z",
     "end_time": "2023-04-22T13:40:38.590000Z"
    }
   }
  },
  {
   "cell_type": "markdown",
   "source": [
    "## Student 2"
   ],
   "metadata": {
    "collapsed": false
   }
  },
  {
   "cell_type": "code",
   "execution_count": 9,
   "outputs": [],
   "source": [
    "st2txt = \"NAN\""
   ],
   "metadata": {
    "collapsed": false,
    "ExecuteTime": {
     "start_time": "2023-04-22T13:41:28.812738Z",
     "end_time": "2023-04-22T13:41:28.814786Z"
    }
   }
  },
  {
   "cell_type": "code",
   "execution_count": 10,
   "outputs": [],
   "source": [
    "scores2 = analyzer.polarity_scores(st2txt)"
   ],
   "metadata": {
    "collapsed": false,
    "ExecuteTime": {
     "start_time": "2023-04-22T13:41:28.981288Z",
     "end_time": "2023-04-22T13:41:28.984292Z"
    }
   }
  },
  {
   "cell_type": "code",
   "execution_count": 11,
   "outputs": [
    {
     "name": "stdout",
     "output_type": "stream",
     "text": [
      "{'neg': 0.0, 'neu': 1.0, 'pos': 0.0, 'compound': 0.0}\n"
     ]
    }
   ],
   "source": [
    "print(scores2)"
   ],
   "metadata": {
    "collapsed": false,
    "ExecuteTime": {
     "start_time": "2023-04-22T13:41:29.382275Z",
     "end_time": "2023-04-22T13:41:29.391284Z"
    }
   }
  },
  {
   "cell_type": "markdown",
   "source": [
    "## Student 3"
   ],
   "metadata": {
    "collapsed": false
   }
  },
  {
   "cell_type": "code",
   "execution_count": 13,
   "outputs": [],
   "source": [
    "st3txt = \"The explanation of moral decision action and Omission is quite helpful. The concept of accountability is clear and the role of the individual stakeholder in developing the healthcare system is also clear. There is no difficulty understanding the chapter's content.\""
   ],
   "metadata": {
    "collapsed": false,
    "ExecuteTime": {
     "start_time": "2023-04-22T13:41:42.184331Z",
     "end_time": "2023-04-22T13:41:42.187335Z"
    }
   }
  },
  {
   "cell_type": "code",
   "execution_count": 14,
   "outputs": [],
   "source": [
    "scores3 = analyzer.polarity_scores(st3txt)"
   ],
   "metadata": {
    "collapsed": false,
    "ExecuteTime": {
     "start_time": "2023-04-22T13:41:42.508933Z",
     "end_time": "2023-04-22T13:41:42.511937Z"
    }
   }
  },
  {
   "cell_type": "code",
   "execution_count": 15,
   "outputs": [
    {
     "name": "stdout",
     "output_type": "stream",
     "text": [
      "{'neg': 0.096, 'neu': 0.731, 'pos': 0.173, 'compound': 0.5709}\n"
     ]
    }
   ],
   "source": [
    "print(scores3)"
   ],
   "metadata": {
    "collapsed": false,
    "ExecuteTime": {
     "start_time": "2023-04-22T13:41:42.917810Z",
     "end_time": "2023-04-22T13:41:42.926819Z"
    }
   }
  },
  {
   "cell_type": "markdown",
   "source": [
    "## Student 4"
   ],
   "metadata": {
    "collapsed": false
   }
  },
  {
   "cell_type": "code",
   "execution_count": 16,
   "outputs": [],
   "source": [
    "st4txt = \"Accountability is an interesting topic, particularly, when considering autonomous AI systems. Therefore, I find this chapter interesting and worthy of discussion. I would also see some real use cases where there was an issue with accountability.\""
   ],
   "metadata": {
    "collapsed": false,
    "ExecuteTime": {
     "start_time": "2023-04-22T13:42:06.078048Z",
     "end_time": "2023-04-22T13:42:06.082052Z"
    }
   }
  },
  {
   "cell_type": "code",
   "execution_count": 17,
   "outputs": [],
   "source": [
    "scores4 = analyzer.polarity_scores(st4txt)"
   ],
   "metadata": {
    "collapsed": false,
    "ExecuteTime": {
     "start_time": "2023-04-22T13:42:06.492052Z",
     "end_time": "2023-04-22T13:42:06.494559Z"
    }
   }
  },
  {
   "cell_type": "code",
   "execution_count": 18,
   "outputs": [
    {
     "name": "stdout",
     "output_type": "stream",
     "text": [
      "{'neg': 0.0, 'neu': 0.789, 'pos': 0.211, 'compound': 0.8074}\n"
     ]
    }
   ],
   "source": [
    "print(scores4)"
   ],
   "metadata": {
    "collapsed": false,
    "ExecuteTime": {
     "start_time": "2023-04-22T13:42:06.930973Z",
     "end_time": "2023-04-22T13:42:06.938981Z"
    }
   }
  },
  {
   "cell_type": "markdown",
   "source": [
    "## Student 5"
   ],
   "metadata": {
    "collapsed": false
   }
  },
  {
   "cell_type": "code",
   "execution_count": 19,
   "outputs": [],
   "source": [
    "st5txt = \"The tasks were clearly formulated. However, I was not absolutely sure what answers were desired.\""
   ],
   "metadata": {
    "collapsed": false,
    "ExecuteTime": {
     "start_time": "2023-04-22T13:42:23.094770Z",
     "end_time": "2023-04-22T13:42:23.097774Z"
    }
   }
  },
  {
   "cell_type": "code",
   "execution_count": 20,
   "outputs": [],
   "source": [
    "scores5 = analyzer.polarity_scores(st5txt)"
   ],
   "metadata": {
    "collapsed": false,
    "ExecuteTime": {
     "start_time": "2023-04-22T13:42:23.346458Z",
     "end_time": "2023-04-22T13:42:23.349461Z"
    }
   }
  },
  {
   "cell_type": "code",
   "execution_count": 21,
   "outputs": [
    {
     "name": "stdout",
     "output_type": "stream",
     "text": [
      "{'neg': 0.121, 'neu': 0.612, 'pos': 0.267, 'compound': 0.3861}\n"
     ]
    }
   ],
   "source": [
    "print(scores5)"
   ],
   "metadata": {
    "collapsed": false,
    "ExecuteTime": {
     "start_time": "2023-04-22T13:42:23.746888Z",
     "end_time": "2023-04-22T13:42:23.755449Z"
    }
   }
  },
  {
   "cell_type": "markdown",
   "source": [
    "## Student 6"
   ],
   "metadata": {
    "collapsed": false
   }
  },
  {
   "cell_type": "code",
   "execution_count": 53,
   "outputs": [],
   "source": [
    "st6txt = \"Usefulness: As has been my feedback to previous chapters, I think the course should focus on the more foundational/philosophical concerns and try to incite lively discussions among the students. Such high level (high in abstraction hierarchy) description can only serve the purpose of creating an illusion of having learnt something.<br /> Clarity: My answers to the questions should serve as the feedback to this part.<br /> Difficulty: Not hard to follow. Any difficulty there was, arose out of lack of clarity.\""
   ],
   "metadata": {
    "collapsed": false,
    "ExecuteTime": {
     "start_time": "2023-04-22T13:46:26.027843Z",
     "end_time": "2023-04-22T13:46:26.030848Z"
    }
   }
  },
  {
   "cell_type": "code",
   "execution_count": 54,
   "outputs": [],
   "source": [
    "scores6 = analyzer.polarity_scores(st6txt)"
   ],
   "metadata": {
    "collapsed": false,
    "ExecuteTime": {
     "start_time": "2023-04-22T13:46:26.207598Z",
     "end_time": "2023-04-22T13:46:26.213394Z"
    }
   }
  },
  {
   "cell_type": "code",
   "execution_count": 55,
   "outputs": [
    {
     "name": "stdout",
     "output_type": "stream",
     "text": [
      "{'neg': 0.077, 'neu': 0.771, 'pos': 0.152, 'compound': 0.7092}\n"
     ]
    }
   ],
   "source": [
    "print(scores6)"
   ],
   "metadata": {
    "collapsed": false,
    "ExecuteTime": {
     "start_time": "2023-04-22T13:46:26.391739Z",
     "end_time": "2023-04-22T13:46:26.402804Z"
    }
   }
  },
  {
   "cell_type": "markdown",
   "source": [
    "## Student 7"
   ],
   "metadata": {
    "collapsed": false
   }
  },
  {
   "cell_type": "code",
   "execution_count": 56,
   "outputs": [],
   "source": [
    "st7txt = \"This chapter explains very well.\""
   ],
   "metadata": {
    "collapsed": false,
    "ExecuteTime": {
     "start_time": "2023-04-22T13:46:35.403667Z",
     "end_time": "2023-04-22T13:46:35.406672Z"
    }
   }
  },
  {
   "cell_type": "code",
   "execution_count": 57,
   "outputs": [],
   "source": [
    "scores7 = analyzer.polarity_scores(st7txt)"
   ],
   "metadata": {
    "collapsed": false,
    "ExecuteTime": {
     "start_time": "2023-04-22T13:46:35.575553Z",
     "end_time": "2023-04-22T13:46:35.578061Z"
    }
   }
  },
  {
   "cell_type": "code",
   "execution_count": 58,
   "outputs": [
    {
     "name": "stdout",
     "output_type": "stream",
     "text": [
      "{'neg': 0.0, 'neu': 0.626, 'pos': 0.374, 'compound': 0.3384}\n"
     ]
    }
   ],
   "source": [
    "print(scores7)"
   ],
   "metadata": {
    "collapsed": false,
    "ExecuteTime": {
     "start_time": "2023-04-22T13:46:35.744227Z",
     "end_time": "2023-04-22T13:46:35.752235Z"
    }
   }
  },
  {
   "cell_type": "markdown",
   "source": [
    "## Student 8"
   ],
   "metadata": {
    "collapsed": false
   }
  },
  {
   "cell_type": "code",
   "execution_count": 59,
   "outputs": [],
   "source": [
    "st8txt = \"This chapter was informative in providing a real-world scenario of the ethical dilemmas that can arise with the implementation of AI systems. It was useful to understand the various responsibilities of those involved in the deployment of such systems. In terms of clarity, the chapter was easy to follow and understand. I had no difficulty providing answers and comprehending the content.\""
   ],
   "metadata": {
    "collapsed": false,
    "ExecuteTime": {
     "start_time": "2023-04-22T13:46:42.842547Z",
     "end_time": "2023-04-22T13:46:42.845589Z"
    }
   }
  },
  {
   "cell_type": "code",
   "execution_count": 60,
   "outputs": [],
   "source": [
    "scores8 = analyzer.polarity_scores(st8txt)"
   ],
   "metadata": {
    "collapsed": false,
    "ExecuteTime": {
     "start_time": "2023-04-22T13:46:43.287394Z",
     "end_time": "2023-04-22T13:46:43.291467Z"
    }
   }
  },
  {
   "cell_type": "code",
   "execution_count": 61,
   "outputs": [
    {
     "name": "stdout",
     "output_type": "stream",
     "text": [
      "{'neg': 0.066, 'neu': 0.764, 'pos': 0.17, 'compound': 0.802}\n"
     ]
    }
   ],
   "source": [
    "print(scores8)"
   ],
   "metadata": {
    "collapsed": false,
    "ExecuteTime": {
     "start_time": "2023-04-22T13:46:43.799050Z",
     "end_time": "2023-04-22T13:46:43.808058Z"
    }
   }
  },
  {
   "cell_type": "markdown",
   "source": [
    "## Student 9"
   ],
   "metadata": {
    "collapsed": false
   }
  },
  {
   "cell_type": "code",
   "execution_count": 62,
   "outputs": [],
   "source": [
    "st9txt = \"Some of the questions are biased, for example I would never consider a private company to develop a healthcare system that sensible, yet that was not to discuss. <br /> <br /> <br /> Also you made Ada Lovelace ( I assume that was the reference) in the first question a male character, which is quite sad...\""
   ],
   "metadata": {
    "collapsed": false,
    "ExecuteTime": {
     "start_time": "2023-04-22T13:46:52.809567Z",
     "end_time": "2023-04-22T13:46:52.811570Z"
    }
   }
  },
  {
   "cell_type": "code",
   "execution_count": 63,
   "outputs": [],
   "source": [
    "scores9 = analyzer.polarity_scores(st9txt)"
   ],
   "metadata": {
    "collapsed": false,
    "ExecuteTime": {
     "start_time": "2023-04-22T13:46:53.063680Z",
     "end_time": "2023-04-22T13:46:53.068405Z"
    }
   }
  },
  {
   "cell_type": "code",
   "execution_count": 64,
   "outputs": [
    {
     "name": "stdout",
     "output_type": "stream",
     "text": [
      "{'neg': 0.04, 'neu': 0.96, 'pos': 0.0, 'compound': -0.2732}\n"
     ]
    }
   ],
   "source": [
    "print(scores9)"
   ],
   "metadata": {
    "collapsed": false,
    "ExecuteTime": {
     "start_time": "2023-04-22T13:46:53.415028Z",
     "end_time": "2023-04-22T13:46:53.423539Z"
    }
   }
  },
  {
   "cell_type": "markdown",
   "source": [
    "## Student 10"
   ],
   "metadata": {
    "collapsed": false
   }
  },
  {
   "cell_type": "code",
   "execution_count": 65,
   "outputs": [],
   "source": [
    "st10txt = \"The chapter was clear and easy to go through.\""
   ],
   "metadata": {
    "collapsed": false,
    "ExecuteTime": {
     "start_time": "2023-04-22T13:47:01.561526Z",
     "end_time": "2023-04-22T13:47:01.564038Z"
    }
   }
  },
  {
   "cell_type": "code",
   "execution_count": 66,
   "outputs": [],
   "source": [
    "scores10 = analyzer.polarity_scores(st10txt)"
   ],
   "metadata": {
    "collapsed": false,
    "ExecuteTime": {
     "start_time": "2023-04-22T13:47:01.758298Z",
     "end_time": "2023-04-22T13:47:01.761805Z"
    }
   }
  },
  {
   "cell_type": "code",
   "execution_count": 67,
   "outputs": [
    {
     "name": "stdout",
     "output_type": "stream",
     "text": [
      "{'neg': 0.0, 'neu': 0.56, 'pos': 0.44, 'compound': 0.6705}\n"
     ]
    }
   ],
   "source": [
    "print(scores10)"
   ],
   "metadata": {
    "collapsed": false,
    "ExecuteTime": {
     "start_time": "2023-04-22T13:47:01.910207Z",
     "end_time": "2023-04-22T13:47:01.918772Z"
    }
   }
  },
  {
   "cell_type": "markdown",
   "source": [
    "## Student 11"
   ],
   "metadata": {
    "collapsed": false
   }
  },
  {
   "cell_type": "code",
   "execution_count": 68,
   "outputs": [],
   "source": [
    "st11txt = \"It was useful in a philosophical study, and also in regard as to recapitulate / combine with AI-topics.<br /> It was mostly clear, but I often skipped back to the slide with the explanation text to re-read the attributes that were important, maybe you can summarize them on the other slides with the tasks.<br /> It was not so difficult and some-how time-consuming\""
   ],
   "metadata": {
    "collapsed": false,
    "ExecuteTime": {
     "start_time": "2023-04-22T13:47:09.009084Z",
     "end_time": "2023-04-22T13:47:09.023097Z"
    }
   }
  },
  {
   "cell_type": "code",
   "execution_count": 69,
   "outputs": [],
   "source": [
    "scores11 = analyzer.polarity_scores(st11txt)"
   ],
   "metadata": {
    "collapsed": false,
    "ExecuteTime": {
     "start_time": "2023-04-22T13:47:09.229758Z",
     "end_time": "2023-04-22T13:47:09.235182Z"
    }
   }
  },
  {
   "cell_type": "code",
   "execution_count": 70,
   "outputs": [
    {
     "name": "stdout",
     "output_type": "stream",
     "text": [
      "{'neg': 0.0, 'neu': 0.856, 'pos': 0.144, 'compound': 0.8145}\n"
     ]
    }
   ],
   "source": [
    "print(scores11)"
   ],
   "metadata": {
    "collapsed": false,
    "ExecuteTime": {
     "start_time": "2023-04-22T13:47:09.677873Z",
     "end_time": "2023-04-22T13:47:09.686384Z"
    }
   }
  },
  {
   "cell_type": "markdown",
   "source": [
    "## Student 12"
   ],
   "metadata": {
    "collapsed": false
   }
  },
  {
   "cell_type": "code",
   "execution_count": 71,
   "outputs": [],
   "source": [
    "st12txt = \"This chapter is designed with some real-life examples that help for better understanding.\""
   ],
   "metadata": {
    "collapsed": false,
    "ExecuteTime": {
     "start_time": "2023-04-22T13:47:36.239815Z",
     "end_time": "2023-04-22T13:47:36.241820Z"
    }
   }
  },
  {
   "cell_type": "code",
   "execution_count": 72,
   "outputs": [],
   "source": [
    "scores12 = analyzer.polarity_scores(st12txt)"
   ],
   "metadata": {
    "collapsed": false,
    "ExecuteTime": {
     "start_time": "2023-04-22T13:47:36.772172Z",
     "end_time": "2023-04-22T13:47:36.775177Z"
    }
   }
  },
  {
   "cell_type": "code",
   "execution_count": 73,
   "outputs": [
    {
     "name": "stdout",
     "output_type": "stream",
     "text": [
      "{'neg': 0.0, 'neu': 0.663, 'pos': 0.337, 'compound': 0.6808}\n"
     ]
    }
   ],
   "source": [
    "print(scores12)"
   ],
   "metadata": {
    "collapsed": false,
    "ExecuteTime": {
     "start_time": "2023-04-22T13:47:36.957063Z",
     "end_time": "2023-04-22T13:47:36.966071Z"
    }
   }
  },
  {
   "cell_type": "markdown",
   "source": [
    "## Student 13"
   ],
   "metadata": {
    "collapsed": false
   }
  },
  {
   "cell_type": "code",
   "execution_count": 74,
   "outputs": [],
   "source": [
    "st13txt = \"The chapter, exposed possible ethical issues in more detail with a number of examples.\""
   ],
   "metadata": {
    "collapsed": false,
    "ExecuteTime": {
     "start_time": "2023-04-22T13:47:52.552128Z",
     "end_time": "2023-04-22T13:47:52.564682Z"
    }
   }
  },
  {
   "cell_type": "code",
   "execution_count": 75,
   "outputs": [],
   "source": [
    "scores13 = analyzer.polarity_scores(st13txt)"
   ],
   "metadata": {
    "collapsed": false,
    "ExecuteTime": {
     "start_time": "2023-04-22T13:47:52.724089Z",
     "end_time": "2023-04-22T13:47:52.727597Z"
    }
   }
  },
  {
   "cell_type": "code",
   "execution_count": 76,
   "outputs": [
    {
     "name": "stdout",
     "output_type": "stream",
     "text": [
      "{'neg': 0.08, 'neu': 0.619, 'pos': 0.301, 'compound': 0.552}\n"
     ]
    }
   ],
   "source": [
    "print(scores13)"
   ],
   "metadata": {
    "collapsed": false,
    "ExecuteTime": {
     "start_time": "2023-04-22T13:47:52.852531Z",
     "end_time": "2023-04-22T13:47:52.860595Z"
    }
   }
  },
  {
   "cell_type": "markdown",
   "source": [
    "## Student 14"
   ],
   "metadata": {
    "collapsed": false
   }
  },
  {
   "cell_type": "code",
   "execution_count": 77,
   "outputs": [],
   "source": [
    "st14txt = \"feedback is sadly already contained in the answers,\""
   ],
   "metadata": {
    "collapsed": false,
    "ExecuteTime": {
     "start_time": "2023-04-22T13:48:06.311171Z",
     "end_time": "2023-04-22T13:48:06.313226Z"
    }
   }
  },
  {
   "cell_type": "code",
   "execution_count": 78,
   "outputs": [],
   "source": [
    "scores14 = analyzer.polarity_scores(st14txt)"
   ],
   "metadata": {
    "collapsed": false,
    "ExecuteTime": {
     "start_time": "2023-04-22T13:48:06.515491Z",
     "end_time": "2023-04-22T13:48:06.518997Z"
    }
   }
  },
  {
   "cell_type": "code",
   "execution_count": 79,
   "outputs": [
    {
     "name": "stdout",
     "output_type": "stream",
     "text": [
      "{'neg': 0.286, 'neu': 0.714, 'pos': 0.0, 'compound': -0.4215}\n"
     ]
    }
   ],
   "source": [
    "print(scores14)"
   ],
   "metadata": {
    "collapsed": false,
    "ExecuteTime": {
     "start_time": "2023-04-22T13:48:06.651513Z",
     "end_time": "2023-04-22T13:48:06.661088Z"
    }
   }
  },
  {
   "cell_type": "markdown",
   "source": [
    "## Student 15"
   ],
   "metadata": {
    "collapsed": false
   }
  },
  {
   "cell_type": "code",
   "execution_count": 80,
   "outputs": [],
   "source": [
    "st15txt = \"Generally, I think accountability is usually considered from the who did what perspective and it is great that this chapter prompts us on the fact that people who also stand by and watch actions occur are also accountable.\""
   ],
   "metadata": {
    "collapsed": false,
    "ExecuteTime": {
     "start_time": "2023-04-22T13:48:12.877463Z",
     "end_time": "2023-04-22T13:48:12.880970Z"
    }
   }
  },
  {
   "cell_type": "code",
   "execution_count": 81,
   "outputs": [],
   "source": [
    "scores15 = analyzer.polarity_scores(st15txt)"
   ],
   "metadata": {
    "collapsed": false,
    "ExecuteTime": {
     "start_time": "2023-04-22T13:48:13.066825Z",
     "end_time": "2023-04-22T13:48:13.070454Z"
    }
   }
  },
  {
   "cell_type": "code",
   "execution_count": 82,
   "outputs": [
    {
     "name": "stdout",
     "output_type": "stream",
     "text": [
      "{'neg': 0.0, 'neu': 0.898, 'pos': 0.102, 'compound': 0.6249}\n"
     ]
    }
   ],
   "source": [
    "print(scores15)"
   ],
   "metadata": {
    "collapsed": false,
    "ExecuteTime": {
     "start_time": "2023-04-22T13:48:13.164101Z",
     "end_time": "2023-04-22T13:48:13.191715Z"
    }
   }
  },
  {
   "cell_type": "markdown",
   "source": [
    "## Student 16"
   ],
   "metadata": {
    "collapsed": false
   }
  },
  {
   "cell_type": "code",
   "execution_count": 83,
   "outputs": [],
   "source": [
    "st16txt = \"Ilias still shows an error which confuses me a bit.\""
   ],
   "metadata": {
    "collapsed": false,
    "ExecuteTime": {
     "start_time": "2023-04-22T13:48:22.437857Z",
     "end_time": "2023-04-22T13:48:22.439917Z"
    }
   }
  },
  {
   "cell_type": "code",
   "execution_count": 84,
   "outputs": [],
   "source": [
    "scores16 = analyzer.polarity_scores(st16txt)"
   ],
   "metadata": {
    "collapsed": false,
    "ExecuteTime": {
     "start_time": "2023-04-22T13:48:22.787511Z",
     "end_time": "2023-04-22T13:48:22.791018Z"
    }
   }
  },
  {
   "cell_type": "code",
   "execution_count": 85,
   "outputs": [
    {
     "name": "stdout",
     "output_type": "stream",
     "text": [
      "{'neg': 0.417, 'neu': 0.583, 'pos': 0.0, 'compound': -0.6124}\n"
     ]
    }
   ],
   "source": [
    "print(scores16)"
   ],
   "metadata": {
    "collapsed": false,
    "ExecuteTime": {
     "start_time": "2023-04-22T13:48:22.979459Z",
     "end_time": "2023-04-22T13:48:22.983464Z"
    }
   }
  },
  {
   "cell_type": "code",
   "execution_count": 86,
   "outputs": [
    {
     "name": "stdout",
     "output_type": "stream",
     "text": [
      "0.37424999999999997\n"
     ]
    }
   ],
   "source": [
    "# create a list of dictionaries to add\n",
    "scores_list = [scores1, scores2, scores3, scores4, scores5, scores6, scores7, scores8,\n",
    "               scores9, scores10, scores11, scores12, scores13, scores14, scores15, scores16]\n",
    "\n",
    "# specify the key i need, in this case, compound\n",
    "key = 'compound'\n",
    "\n",
    "# create a list to store the values of each key that i will extract from each dict\n",
    "values_list = []\n",
    "\n",
    "# loop over the list of dictionaries and extract the values for the specific key\n",
    "for d in scores_list:\n",
    "    if key in d:\n",
    "        values_list.append(d[key])\n",
    "\n",
    "# calculate the average of the values:\n",
    "average = np.mean(values_list)\n",
    "\n",
    "print(average)"
   ],
   "metadata": {
    "collapsed": false,
    "ExecuteTime": {
     "start_time": "2023-04-22T13:48:26.612302Z",
     "end_time": "2023-04-22T13:48:26.628381Z"
    }
   }
  },
  {
   "cell_type": "markdown",
   "source": [
    "# Week 3/ Chapter 3 scores are:\n",
    "\n",
    "### The average score for week one sentiment analysis is 0.374 (1 being the most positive, 0 neutral, and -1 being negative)"
   ],
   "metadata": {
    "collapsed": false
   }
  },
  {
   "cell_type": "code",
   "execution_count": null,
   "outputs": [],
   "source": [],
   "metadata": {
    "collapsed": false
   }
  }
 ],
 "metadata": {
  "kernelspec": {
   "name": "txt",
   "language": "python",
   "display_name": "Python 3.11 (txt)"
  },
  "language_info": {
   "codemirror_mode": {
    "name": "ipython",
    "version": 2
   },
   "file_extension": ".py",
   "mimetype": "text/x-python",
   "name": "python",
   "nbconvert_exporter": "python",
   "pygments_lexer": "ipython2",
   "version": "2.7.6"
  }
 },
 "nbformat": 4,
 "nbformat_minor": 0
}
