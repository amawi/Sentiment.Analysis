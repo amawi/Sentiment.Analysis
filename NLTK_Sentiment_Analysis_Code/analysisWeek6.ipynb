{
 "cells": [
  {
   "cell_type": "code",
   "execution_count": 1,
   "metadata": {
    "collapsed": true,
    "ExecuteTime": {
     "start_time": "2023-04-22T15:02:37.479936Z",
     "end_time": "2023-04-22T15:02:38.454520Z"
    }
   },
   "outputs": [
    {
     "name": "stderr",
     "output_type": "stream",
     "text": [
      "[nltk_data] Downloading package vader_lexicon to\n",
      "[nltk_data]     C:\\Users\\Abdullah\\AppData\\Roaming\\nltk_data...\n",
      "[nltk_data]   Package vader_lexicon is already up-to-date!\n"
     ]
    }
   ],
   "source": [
    "import nltk\n",
    "nltk.download('vader_lexicon')\n",
    "from nltk.sentiment import SentimentIntensityAnalyzer\n",
    "\n",
    "import numpy as np"
   ]
  },
  {
   "cell_type": "code",
   "execution_count": 2,
   "outputs": [],
   "source": [
    "analyzer = SentimentIntensityAnalyzer()\n"
   ],
   "metadata": {
    "collapsed": false,
    "ExecuteTime": {
     "start_time": "2023-04-22T15:02:38.454520Z",
     "end_time": "2023-04-22T15:02:38.465071Z"
    }
   }
  },
  {
   "cell_type": "markdown",
   "source": [
    "## We start the analysis for each student"
   ],
   "metadata": {
    "collapsed": false
   }
  },
  {
   "cell_type": "markdown",
   "source": [
    "### Student 1"
   ],
   "metadata": {
    "collapsed": false
   }
  },
  {
   "cell_type": "code",
   "execution_count": 3,
   "outputs": [],
   "source": [
    "st1txt = \"Very informative as I learnt something entirely new\""
   ],
   "metadata": {
    "collapsed": false,
    "ExecuteTime": {
     "start_time": "2023-04-22T15:02:52.315046Z",
     "end_time": "2023-04-22T15:02:52.325558Z"
    }
   }
  },
  {
   "cell_type": "code",
   "execution_count": 4,
   "outputs": [],
   "source": [
    "scores1 = analyzer.polarity_scores(st1txt)"
   ],
   "metadata": {
    "collapsed": false,
    "ExecuteTime": {
     "start_time": "2023-04-22T15:02:52.990453Z",
     "end_time": "2023-04-22T15:02:52.992959Z"
    }
   }
  },
  {
   "cell_type": "code",
   "execution_count": 5,
   "outputs": [
    {
     "name": "stdout",
     "output_type": "stream",
     "text": [
      "{'neg': 0.0, 'neu': 1.0, 'pos': 0.0, 'compound': 0.0}\n"
     ]
    }
   ],
   "source": [
    "print(scores1)"
   ],
   "metadata": {
    "collapsed": false,
    "ExecuteTime": {
     "start_time": "2023-04-22T15:02:53.343445Z",
     "end_time": "2023-04-22T15:02:53.351993Z"
    }
   }
  },
  {
   "cell_type": "markdown",
   "source": [
    "## Student 2"
   ],
   "metadata": {
    "collapsed": false
   }
  },
  {
   "cell_type": "code",
   "execution_count": 6,
   "outputs": [],
   "source": [
    "st2txt = \"NAN\""
   ],
   "metadata": {
    "collapsed": false,
    "ExecuteTime": {
     "start_time": "2023-04-22T15:02:57.227556Z",
     "end_time": "2023-04-22T15:02:57.230558Z"
    }
   }
  },
  {
   "cell_type": "code",
   "execution_count": 7,
   "outputs": [],
   "source": [
    "scores2 = analyzer.polarity_scores(st2txt)"
   ],
   "metadata": {
    "collapsed": false,
    "ExecuteTime": {
     "start_time": "2023-04-22T15:02:57.616022Z",
     "end_time": "2023-04-22T15:02:57.619026Z"
    }
   }
  },
  {
   "cell_type": "code",
   "execution_count": 8,
   "outputs": [
    {
     "name": "stdout",
     "output_type": "stream",
     "text": [
      "{'neg': 0.0, 'neu': 1.0, 'pos': 0.0, 'compound': 0.0}\n"
     ]
    }
   ],
   "source": [
    "print(scores2)"
   ],
   "metadata": {
    "collapsed": false,
    "ExecuteTime": {
     "start_time": "2023-04-22T15:02:58.111766Z",
     "end_time": "2023-04-22T15:02:58.119276Z"
    }
   }
  },
  {
   "cell_type": "markdown",
   "source": [
    "## Student 3"
   ],
   "metadata": {
    "collapsed": false
   }
  },
  {
   "cell_type": "code",
   "execution_count": 12,
   "outputs": [],
   "source": [
    "st3txt = \"This chapter was useful in understanding how AI influence fairness in the system. AI systems are only as unbiased as the data they are trained on. In the case of Amazon's AI recruiting tool, the algorithm was trained on historical data that was predominantly from male job applicants.<br /> <br /> As a result, the system was biased against women, penalizing resumes that contained words such as women or female, and downgrading resumes of candidates who had graduated from all-women's colleges. This highlights the importance of ensuring that AI systems are trained on diverse and representative datasets to prevent them from perpetuating biases and inequalities. Additionally, this case highlights the need for human oversight and review of AI systems, particularly in sensitive areas such as recruitment, to ensure that they are fair and unbiased. Finally, it is important to recognize that AI is not a silver bullet solution to solving discrimination-related issues and that it should be used in conjunction with other measures to address biases and inequalities in the workplace.\""
   ],
   "metadata": {
    "collapsed": false,
    "ExecuteTime": {
     "start_time": "2023-04-22T15:03:32.420061Z",
     "end_time": "2023-04-22T15:03:32.430071Z"
    }
   }
  },
  {
   "cell_type": "code",
   "execution_count": 13,
   "outputs": [],
   "source": [
    "scores3 = analyzer.polarity_scores(st3txt)"
   ],
   "metadata": {
    "collapsed": false,
    "ExecuteTime": {
     "start_time": "2023-04-22T15:03:32.942696Z",
     "end_time": "2023-04-22T15:03:32.946898Z"
    }
   }
  },
  {
   "cell_type": "code",
   "execution_count": 14,
   "outputs": [
    {
     "name": "stdout",
     "output_type": "stream",
     "text": [
      "{'neg': 0.035, 'neu': 0.868, 'pos': 0.098, 'compound': 0.887}\n"
     ]
    }
   ],
   "source": [
    "print(scores3)"
   ],
   "metadata": {
    "collapsed": false,
    "ExecuteTime": {
     "start_time": "2023-04-22T15:03:33.350181Z",
     "end_time": "2023-04-22T15:03:33.352184Z"
    }
   }
  },
  {
   "cell_type": "markdown",
   "source": [
    "## Student 4"
   ],
   "metadata": {
    "collapsed": false
   }
  },
  {
   "cell_type": "code",
   "execution_count": 15,
   "outputs": [],
   "source": [
    "st4txt = \"The chapter was helpful in understanding the different types of bias and also the difference between unfairness and discrimination.\""
   ],
   "metadata": {
    "collapsed": false,
    "ExecuteTime": {
     "start_time": "2023-04-22T15:03:36.313622Z",
     "end_time": "2023-04-22T15:03:36.317641Z"
    }
   }
  },
  {
   "cell_type": "code",
   "execution_count": 16,
   "outputs": [],
   "source": [
    "scores4 = analyzer.polarity_scores(st4txt)"
   ],
   "metadata": {
    "collapsed": false,
    "ExecuteTime": {
     "start_time": "2023-04-22T15:03:36.622928Z",
     "end_time": "2023-04-22T15:03:36.626434Z"
    }
   }
  },
  {
   "cell_type": "code",
   "execution_count": 17,
   "outputs": [
    {
     "name": "stdout",
     "output_type": "stream",
     "text": [
      "{'neg': 0.066, 'neu': 0.802, 'pos': 0.132, 'compound': 0.34}\n"
     ]
    }
   ],
   "source": [
    "print(scores4)"
   ],
   "metadata": {
    "collapsed": false,
    "ExecuteTime": {
     "start_time": "2023-04-22T15:03:37.205104Z",
     "end_time": "2023-04-22T15:03:37.213614Z"
    }
   }
  },
  {
   "cell_type": "markdown",
   "source": [
    "## Student 5"
   ],
   "metadata": {
    "collapsed": false
   }
  },
  {
   "cell_type": "code",
   "execution_count": 18,
   "outputs": [],
   "source": [
    "st5txt = \"The instructions were clear and understandable. The difficulty of the task was reasonable.\""
   ],
   "metadata": {
    "collapsed": false,
    "ExecuteTime": {
     "start_time": "2023-04-22T15:03:53.416469Z",
     "end_time": "2023-04-22T15:03:53.419527Z"
    }
   }
  },
  {
   "cell_type": "code",
   "execution_count": 19,
   "outputs": [],
   "source": [
    "scores5 = analyzer.polarity_scores(st5txt)"
   ],
   "metadata": {
    "collapsed": false,
    "ExecuteTime": {
     "start_time": "2023-04-22T15:03:53.605060Z",
     "end_time": "2023-04-22T15:03:53.608566Z"
    }
   }
  },
  {
   "cell_type": "code",
   "execution_count": 20,
   "outputs": [
    {
     "name": "stdout",
     "output_type": "stream",
     "text": [
      "{'neg': 0.15, 'neu': 0.688, 'pos': 0.163, 'compound': 0.0516}\n"
     ]
    }
   ],
   "source": [
    "print(scores5)"
   ],
   "metadata": {
    "collapsed": false,
    "ExecuteTime": {
     "start_time": "2023-04-22T15:03:54.004813Z",
     "end_time": "2023-04-22T15:03:54.012821Z"
    }
   }
  },
  {
   "cell_type": "markdown",
   "source": [
    "## Student 6"
   ],
   "metadata": {
    "collapsed": false
   }
  },
  {
   "cell_type": "code",
   "execution_count": 21,
   "outputs": [],
   "source": [
    "st6txt = \"I dislike the fact that the course continues to use vague words and encourages the students to use them and create a stronger illusion of knowing what those words mean.<br /> <br /> I appreciate the attempt of the course and these lessons to educate students about these novel issues related to AI, but I imagine that a more foundational approach would be of help. Maybe not in the immediate future, but eventually, yes. If probed further, I could elaborate on what I view to be a fruitful approach\""
   ],
   "metadata": {
    "collapsed": false,
    "ExecuteTime": {
     "start_time": "2023-04-22T15:04:23.990768Z",
     "end_time": "2023-04-22T15:04:23.993771Z"
    }
   }
  },
  {
   "cell_type": "code",
   "execution_count": 22,
   "outputs": [],
   "source": [
    "scores6 = analyzer.polarity_scores(st6txt)"
   ],
   "metadata": {
    "collapsed": false,
    "ExecuteTime": {
     "start_time": "2023-04-22T15:04:24.730354Z",
     "end_time": "2023-04-22T15:04:24.733770Z"
    }
   }
  },
  {
   "cell_type": "code",
   "execution_count": 23,
   "outputs": [
    {
     "name": "stdout",
     "output_type": "stream",
     "text": [
      "{'neg': 0.033, 'neu': 0.792, 'pos': 0.175, 'compound': 0.8979}\n"
     ]
    }
   ],
   "source": [
    "print(scores6)"
   ],
   "metadata": {
    "collapsed": false,
    "ExecuteTime": {
     "start_time": "2023-04-22T15:04:25.147699Z",
     "end_time": "2023-04-22T15:04:25.157265Z"
    }
   }
  },
  {
   "cell_type": "markdown",
   "source": [
    "## Student 7"
   ],
   "metadata": {
    "collapsed": false
   }
  },
  {
   "cell_type": "code",
   "execution_count": 24,
   "outputs": [],
   "source": [
    "st7txt = \"This chapter is really useful and the question is difficult but at the same time more useful to understand the topic.\""
   ],
   "metadata": {
    "collapsed": false,
    "ExecuteTime": {
     "start_time": "2023-04-22T15:04:39.423482Z",
     "end_time": "2023-04-22T15:04:39.426486Z"
    }
   }
  },
  {
   "cell_type": "code",
   "execution_count": 25,
   "outputs": [],
   "source": [
    "scores7 = analyzer.polarity_scores(st7txt)"
   ],
   "metadata": {
    "collapsed": false,
    "ExecuteTime": {
     "start_time": "2023-04-22T15:04:39.897736Z",
     "end_time": "2023-04-22T15:04:39.901243Z"
    }
   }
  },
  {
   "cell_type": "code",
   "execution_count": 26,
   "outputs": [
    {
     "name": "stdout",
     "output_type": "stream",
     "text": [
      "{'neg': 0.067, 'neu': 0.689, 'pos': 0.244, 'compound': 0.6844}\n"
     ]
    }
   ],
   "source": [
    "print(scores7)"
   ],
   "metadata": {
    "collapsed": false,
    "ExecuteTime": {
     "start_time": "2023-04-22T15:04:40.138899Z",
     "end_time": "2023-04-22T15:04:40.147410Z"
    }
   }
  },
  {
   "cell_type": "markdown",
   "source": [
    "## Student 8"
   ],
   "metadata": {
    "collapsed": false
   }
  },
  {
   "cell_type": "code",
   "execution_count": 27,
   "outputs": [],
   "source": [
    "st8txt = \"The chapter presented on fairness and discrimination related to AI tools was very clear. The examples provided were straightforward and made it easy to complete the exercise. It was useful to dig into the internet and read articles related to the problems and issues discussed in the chapter.\""
   ],
   "metadata": {
    "collapsed": false,
    "ExecuteTime": {
     "start_time": "2023-04-22T15:04:51.709358Z",
     "end_time": "2023-04-22T15:04:51.711364Z"
    }
   }
  },
  {
   "cell_type": "code",
   "execution_count": 28,
   "outputs": [],
   "source": [
    "scores8 = analyzer.polarity_scores(st8txt)"
   ],
   "metadata": {
    "collapsed": false,
    "ExecuteTime": {
     "start_time": "2023-04-22T15:04:52.697907Z",
     "end_time": "2023-04-22T15:04:52.700911Z"
    }
   }
  },
  {
   "cell_type": "code",
   "execution_count": 29,
   "outputs": [
    {
     "name": "stdout",
     "output_type": "stream",
     "text": [
      "{'neg': 0.049, 'neu': 0.794, 'pos': 0.157, 'compound': 0.7178}\n"
     ]
    }
   ],
   "source": [
    "print(scores8)"
   ],
   "metadata": {
    "collapsed": false,
    "ExecuteTime": {
     "start_time": "2023-04-22T15:04:52.874751Z",
     "end_time": "2023-04-22T15:04:52.882760Z"
    }
   }
  },
  {
   "cell_type": "markdown",
   "source": [
    "## Student 9"
   ],
   "metadata": {
    "collapsed": false
   }
  },
  {
   "cell_type": "code",
   "execution_count": 30,
   "outputs": [],
   "source": [
    "st9txt = \"I liked the task, but some of the questions were unclear to me.\""
   ],
   "metadata": {
    "collapsed": false,
    "ExecuteTime": {
     "start_time": "2023-04-22T15:05:08.701030Z",
     "end_time": "2023-04-22T15:05:08.704034Z"
    }
   }
  },
  {
   "cell_type": "code",
   "execution_count": 31,
   "outputs": [],
   "source": [
    "scores9 = analyzer.polarity_scores(st9txt)"
   ],
   "metadata": {
    "collapsed": false,
    "ExecuteTime": {
     "start_time": "2023-04-22T15:05:08.897839Z",
     "end_time": "2023-04-22T15:05:08.901346Z"
    }
   }
  },
  {
   "cell_type": "code",
   "execution_count": 32,
   "outputs": [
    {
     "name": "stdout",
     "output_type": "stream",
     "text": [
      "{'neg': 0.174, 'neu': 0.694, 'pos': 0.132, 'compound': -0.1531}\n"
     ]
    }
   ],
   "source": [
    "print(scores9)"
   ],
   "metadata": {
    "collapsed": false,
    "ExecuteTime": {
     "start_time": "2023-04-22T15:05:09.210018Z",
     "end_time": "2023-04-22T15:05:09.219026Z"
    }
   }
  },
  {
   "cell_type": "markdown",
   "source": [
    "## Student 10"
   ],
   "metadata": {
    "collapsed": false
   }
  },
  {
   "cell_type": "code",
   "execution_count": 34,
   "outputs": [],
   "source": [
    "st10txt = \"It was fairly easy to read and understand\""
   ],
   "metadata": {
    "collapsed": false,
    "ExecuteTime": {
     "start_time": "2023-04-22T15:05:26.661126Z",
     "end_time": "2023-04-22T15:05:26.664130Z"
    }
   }
  },
  {
   "cell_type": "code",
   "execution_count": 35,
   "outputs": [],
   "source": [
    "scores10 = analyzer.polarity_scores(st10txt)"
   ],
   "metadata": {
    "collapsed": false,
    "ExecuteTime": {
     "start_time": "2023-04-22T15:05:26.882389Z",
     "end_time": "2023-04-22T15:05:26.885394Z"
    }
   }
  },
  {
   "cell_type": "code",
   "execution_count": 36,
   "outputs": [
    {
     "name": "stdout",
     "output_type": "stream",
     "text": [
      "{'neg': 0.0, 'neu': 0.707, 'pos': 0.293, 'compound': 0.4404}\n"
     ]
    }
   ],
   "source": [
    "print(scores10)"
   ],
   "metadata": {
    "collapsed": false,
    "ExecuteTime": {
     "start_time": "2023-04-22T15:05:27.664497Z",
     "end_time": "2023-04-22T15:05:27.673009Z"
    }
   }
  },
  {
   "cell_type": "markdown",
   "source": [
    "## Student 11"
   ],
   "metadata": {
    "collapsed": false
   }
  },
  {
   "cell_type": "code",
   "execution_count": 37,
   "outputs": [],
   "source": [
    "st11txt = \"It was kind of clear. I feel like the amount of work for this chapter was too much, especially finding an article combining technology(?) and fairness and discrimination, as that was not clear in the desc. of the excerise.\""
   ],
   "metadata": {
    "collapsed": false,
    "ExecuteTime": {
     "start_time": "2023-04-22T15:05:40.963126Z",
     "end_time": "2023-04-22T15:05:40.966131Z"
    }
   }
  },
  {
   "cell_type": "code",
   "execution_count": 38,
   "outputs": [],
   "source": [
    "scores11 = analyzer.polarity_scores(st11txt)"
   ],
   "metadata": {
    "collapsed": false,
    "ExecuteTime": {
     "start_time": "2023-04-22T15:05:41.151712Z",
     "end_time": "2023-04-22T15:05:41.156203Z"
    }
   }
  },
  {
   "cell_type": "code",
   "execution_count": 39,
   "outputs": [
    {
     "name": "stdout",
     "output_type": "stream",
     "text": [
      "{'neg': 0.0, 'neu': 0.831, 'pos': 0.169, 'compound': 0.7281}\n"
     ]
    }
   ],
   "source": [
    "print(scores11)"
   ],
   "metadata": {
    "collapsed": false,
    "ExecuteTime": {
     "start_time": "2023-04-22T15:05:41.512248Z",
     "end_time": "2023-04-22T15:05:41.520759Z"
    }
   }
  },
  {
   "cell_type": "markdown",
   "source": [
    "## Student 12"
   ],
   "metadata": {
    "collapsed": false
   }
  },
  {
   "cell_type": "code",
   "execution_count": 40,
   "outputs": [],
   "source": [
    "st12txt = \"In the chapter, it was discussed about fairness, discrimination, and biases in AI. <br /> The software which is implemented with Artificial Intelligence system should maintain the discussed paradigm to make it bias-free which is obviously useful. <br /> <br /> Further, the paradigms are clearly explained with real-life examples which is understandable.\""
   ],
   "metadata": {
    "collapsed": false,
    "ExecuteTime": {
     "start_time": "2023-04-22T15:05:51.291878Z",
     "end_time": "2023-04-22T15:05:51.294883Z"
    }
   }
  },
  {
   "cell_type": "code",
   "execution_count": 41,
   "outputs": [],
   "source": [
    "scores12 = analyzer.polarity_scores(st12txt)"
   ],
   "metadata": {
    "collapsed": false,
    "ExecuteTime": {
     "start_time": "2023-04-22T15:05:51.526155Z",
     "end_time": "2023-04-22T15:05:51.528199Z"
    }
   }
  },
  {
   "cell_type": "code",
   "execution_count": 42,
   "outputs": [
    {
     "name": "stdout",
     "output_type": "stream",
     "text": [
      "{'neg': 0.0, 'neu': 0.852, 'pos': 0.148, 'compound': 0.8271}\n"
     ]
    }
   ],
   "source": [
    "print(scores12)"
   ],
   "metadata": {
    "collapsed": false,
    "ExecuteTime": {
     "start_time": "2023-04-22T15:05:51.832185Z",
     "end_time": "2023-04-22T15:05:51.840696Z"
    }
   }
  },
  {
   "cell_type": "markdown",
   "source": [
    "## Student 13"
   ],
   "metadata": {
    "collapsed": false
   }
  },
  {
   "cell_type": "code",
   "execution_count": 43,
   "outputs": [],
   "source": [
    "st13txt = \"it would be nice if the links would not hallway start with ----ref link:https://... which I think is somehow preventing me from just clicking the link, to get to the referenced page. Or in other words, it would be nice if the links could be clickable so I do not need to select the right part of the URL and then copy-paste it.<br /> <br /> It would be nice if the chapters would have roughly the same amount of content, some chapters are very short and others are like ten times the size, which makes reading them somehow annoying. Perhaps separating the chapters even further, and then the hierarchy at the left would also help to find certain concepts in the module.<br /> <br /> the task was nice and clear in my opinion.<br /> <br /> Feedback on the answers I already gave would be nice. <br /> <br /> And still please do not make a feedback field mandatory.\""
   ],
   "metadata": {
    "collapsed": false,
    "ExecuteTime": {
     "start_time": "2023-04-22T15:06:01.427129Z",
     "end_time": "2023-04-22T15:06:01.430134Z"
    }
   }
  },
  {
   "cell_type": "code",
   "execution_count": 44,
   "outputs": [],
   "source": [
    "scores13 = analyzer.polarity_scores(st13txt)"
   ],
   "metadata": {
    "collapsed": false,
    "ExecuteTime": {
     "start_time": "2023-04-22T15:06:01.657136Z",
     "end_time": "2023-04-22T15:06:01.659139Z"
    }
   }
  },
  {
   "cell_type": "code",
   "execution_count": 45,
   "outputs": [
    {
     "name": "stdout",
     "output_type": "stream",
     "text": [
      "{'neg': 0.022, 'neu': 0.822, 'pos': 0.156, 'compound': 0.967}\n"
     ]
    }
   ],
   "source": [
    "print(scores13)"
   ],
   "metadata": {
    "collapsed": false,
    "ExecuteTime": {
     "start_time": "2023-04-22T15:06:02.040106Z",
     "end_time": "2023-04-22T15:06:02.048115Z"
    }
   }
  },
  {
   "cell_type": "markdown",
   "source": [
    "## Student 14"
   ],
   "metadata": {
    "collapsed": false
   }
  },
  {
   "cell_type": "code",
   "execution_count": 46,
   "outputs": [],
   "source": [
    "st14txt = \"This chapter was very useful and had me researching a lot about many different ways ai discriminates which was a good exposure and awareness.\""
   ],
   "metadata": {
    "collapsed": false,
    "ExecuteTime": {
     "start_time": "2023-04-22T15:06:12.627442Z",
     "end_time": "2023-04-22T15:06:12.630950Z"
    }
   }
  },
  {
   "cell_type": "code",
   "execution_count": 47,
   "outputs": [],
   "source": [
    "scores14 = analyzer.polarity_scores(st14txt)"
   ],
   "metadata": {
    "collapsed": false,
    "ExecuteTime": {
     "start_time": "2023-04-22T15:06:12.838289Z",
     "end_time": "2023-04-22T15:06:12.842887Z"
    }
   }
  },
  {
   "cell_type": "code",
   "execution_count": 48,
   "outputs": [
    {
     "name": "stdout",
     "output_type": "stream",
     "text": [
      "{'neg': 0.0, 'neu': 0.766, 'pos': 0.234, 'compound': 0.7264}\n"
     ]
    }
   ],
   "source": [
    "print(scores14)"
   ],
   "metadata": {
    "collapsed": false,
    "ExecuteTime": {
     "start_time": "2023-04-22T15:06:13.200265Z",
     "end_time": "2023-04-22T15:06:13.208776Z"
    }
   }
  },
  {
   "cell_type": "markdown",
   "source": [
    "## Student 15"
   ],
   "metadata": {
    "collapsed": false
   }
  },
  {
   "cell_type": "code",
   "execution_count": 62,
   "outputs": [],
   "source": [
    "# Original st15 did not solve.; So, the order of the students may be wrong, but regardless, the avg will be the same.\n",
    "st15txt = \"\""
   ],
   "metadata": {
    "collapsed": false,
    "ExecuteTime": {
     "start_time": "2023-04-22T15:09:09.618390Z",
     "end_time": "2023-04-22T15:09:09.630910Z"
    }
   }
  },
  {
   "cell_type": "code",
   "execution_count": 63,
   "outputs": [],
   "source": [
    "scores15 = analyzer.polarity_scores(st15txt)"
   ],
   "metadata": {
    "collapsed": false,
    "ExecuteTime": {
     "start_time": "2023-04-22T15:09:11.625266Z",
     "end_time": "2023-04-22T15:09:11.629271Z"
    }
   }
  },
  {
   "cell_type": "code",
   "execution_count": 64,
   "outputs": [
    {
     "name": "stdout",
     "output_type": "stream",
     "text": [
      "{'neg': 0.0, 'neu': 0.0, 'pos': 0.0, 'compound': 0.0}\n"
     ]
    }
   ],
   "source": [
    "print(scores15)"
   ],
   "metadata": {
    "collapsed": false,
    "ExecuteTime": {
     "start_time": "2023-04-22T15:09:11.776353Z",
     "end_time": "2023-04-22T15:09:11.784865Z"
    }
   }
  },
  {
   "cell_type": "markdown",
   "source": [
    "## Student 16"
   ],
   "metadata": {
    "collapsed": false
   }
  },
  {
   "cell_type": "code",
   "execution_count": 65,
   "outputs": [],
   "source": [
    "st16txt = \"I think it was not very clear how to distinguish between fairness and discrimination. Also after a further Google search the difference was not very clear to me.\""
   ],
   "metadata": {
    "collapsed": false,
    "ExecuteTime": {
     "start_time": "2023-04-22T15:09:12.045305Z",
     "end_time": "2023-04-22T15:09:12.049310Z"
    }
   }
  },
  {
   "cell_type": "code",
   "execution_count": 66,
   "outputs": [],
   "source": [
    "scores16 = analyzer.polarity_scores(st16txt)"
   ],
   "metadata": {
    "collapsed": false,
    "ExecuteTime": {
     "start_time": "2023-04-22T15:09:12.321587Z",
     "end_time": "2023-04-22T15:09:12.324591Z"
    }
   }
  },
  {
   "cell_type": "code",
   "execution_count": 67,
   "outputs": [
    {
     "name": "stdout",
     "output_type": "stream",
     "text": [
      "{'neg': 0.167, 'neu': 0.833, 'pos': 0.0, 'compound': -0.5861}\n"
     ]
    }
   ],
   "source": [
    "print(scores16)"
   ],
   "metadata": {
    "collapsed": false,
    "ExecuteTime": {
     "start_time": "2023-04-22T15:09:12.448484Z",
     "end_time": "2023-04-22T15:09:12.453490Z"
    }
   }
  },
  {
   "cell_type": "code",
   "execution_count": 68,
   "outputs": [
    {
     "name": "stdout",
     "output_type": "stream",
     "text": [
      "0.40803125\n"
     ]
    }
   ],
   "source": [
    "# create a list of dictionaries to add\n",
    "scores_list = [scores1, scores2, scores3, scores4, scores5, scores6, scores7, scores8,\n",
    "               scores9, scores10, scores11, scores12, scores13, scores14, scores15, scores16]\n",
    "\n",
    "# specify the key i need, in this case, compound\n",
    "key = 'compound'\n",
    "\n",
    "# create a list to store the values of each key that i will extract from each dict\n",
    "values_list = []\n",
    "\n",
    "# loop over the list of dictionaries and extract the values for the specific key\n",
    "for d in scores_list:\n",
    "    if key in d:\n",
    "        values_list.append(d[key])\n",
    "\n",
    "# calculate the average of the values:\n",
    "average = np.mean(values_list)\n",
    "\n",
    "print(average)"
   ],
   "metadata": {
    "collapsed": false,
    "ExecuteTime": {
     "start_time": "2023-04-22T15:09:12.598068Z",
     "end_time": "2023-04-22T15:09:12.606122Z"
    }
   }
  },
  {
   "cell_type": "markdown",
   "source": [
    "# Week 6/ chapter 6 scores\n",
    "\n",
    "### The average score for week one sentiment analysis is 0.40 (1 being the most positive, 0 neutral, and -1 being negative)"
   ],
   "metadata": {
    "collapsed": false
   }
  },
  {
   "cell_type": "code",
   "execution_count": null,
   "outputs": [],
   "source": [],
   "metadata": {
    "collapsed": false
   }
  }
 ],
 "metadata": {
  "kernelspec": {
   "display_name": "Python 3",
   "language": "python",
   "name": "python3"
  },
  "language_info": {
   "codemirror_mode": {
    "name": "ipython",
    "version": 2
   },
   "file_extension": ".py",
   "mimetype": "text/x-python",
   "name": "python",
   "nbconvert_exporter": "python",
   "pygments_lexer": "ipython2",
   "version": "2.7.6"
  }
 },
 "nbformat": 4,
 "nbformat_minor": 0
}
