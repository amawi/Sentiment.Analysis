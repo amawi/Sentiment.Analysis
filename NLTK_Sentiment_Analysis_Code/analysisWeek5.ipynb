{
 "cells": [
  {
   "cell_type": "code",
   "execution_count": 1,
   "metadata": {
    "collapsed": true,
    "ExecuteTime": {
     "start_time": "2023-04-22T14:18:27.481219Z",
     "end_time": "2023-04-22T14:18:28.552349Z"
    }
   },
   "outputs": [
    {
     "name": "stderr",
     "output_type": "stream",
     "text": [
      "[nltk_data] Downloading package vader_lexicon to\n",
      "[nltk_data]     C:\\Users\\Abdullah\\AppData\\Roaming\\nltk_data...\n",
      "[nltk_data]   Package vader_lexicon is already up-to-date!\n"
     ]
    }
   ],
   "source": [
    "import nltk\n",
    "nltk.download('vader_lexicon')\n",
    "from nltk.sentiment import SentimentIntensityAnalyzer\n",
    "\n",
    "import numpy as np"
   ]
  },
  {
   "cell_type": "code",
   "execution_count": 2,
   "outputs": [],
   "source": [
    "analyzer = SentimentIntensityAnalyzer()\n"
   ],
   "metadata": {
    "collapsed": false,
    "ExecuteTime": {
     "start_time": "2023-04-22T14:18:28.553163Z",
     "end_time": "2023-04-22T14:18:28.563281Z"
    }
   }
  },
  {
   "cell_type": "markdown",
   "source": [
    "## We start the analysis for each student"
   ],
   "metadata": {
    "collapsed": false
   }
  },
  {
   "cell_type": "markdown",
   "source": [
    "### Student 1"
   ],
   "metadata": {
    "collapsed": false
   }
  },
  {
   "cell_type": "code",
   "execution_count": 3,
   "outputs": [],
   "source": [
    "st1txt = \"It was very long and comprehensive\""
   ],
   "metadata": {
    "collapsed": false,
    "ExecuteTime": {
     "start_time": "2023-04-22T14:19:20.625679Z",
     "end_time": "2023-04-22T14:19:20.630194Z"
    }
   }
  },
  {
   "cell_type": "code",
   "execution_count": 4,
   "outputs": [],
   "source": [
    "scores1 = analyzer.polarity_scores(st1txt)"
   ],
   "metadata": {
    "collapsed": false,
    "ExecuteTime": {
     "start_time": "2023-04-22T14:19:20.895309Z",
     "end_time": "2023-04-22T14:19:20.897814Z"
    }
   }
  },
  {
   "cell_type": "code",
   "execution_count": 5,
   "outputs": [
    {
     "name": "stdout",
     "output_type": "stream",
     "text": [
      "{'neg': 0.0, 'neu': 0.688, 'pos': 0.312, 'compound': 0.3102}\n"
     ]
    }
   ],
   "source": [
    "print(scores1)"
   ],
   "metadata": {
    "collapsed": false,
    "ExecuteTime": {
     "start_time": "2023-04-22T14:19:21.359749Z",
     "end_time": "2023-04-22T14:19:21.366755Z"
    }
   }
  },
  {
   "cell_type": "markdown",
   "source": [
    "## Student 2"
   ],
   "metadata": {
    "collapsed": false
   }
  },
  {
   "cell_type": "code",
   "execution_count": 6,
   "outputs": [],
   "source": [
    "st2txt = \"Human AI right <br /> I wish this was explained better since it was a bit confusing to understand initially. It took me some time to figure out that it means rights AI should keep in mind for systems that can directly affect humans and their rights.\""
   ],
   "metadata": {
    "collapsed": false,
    "ExecuteTime": {
     "start_time": "2023-04-22T14:19:40.849231Z",
     "end_time": "2023-04-22T14:19:40.851736Z"
    }
   }
  },
  {
   "cell_type": "code",
   "execution_count": 7,
   "outputs": [],
   "source": [
    "scores2 = analyzer.polarity_scores(st2txt)"
   ],
   "metadata": {
    "collapsed": false,
    "ExecuteTime": {
     "start_time": "2023-04-22T14:19:41.485972Z",
     "end_time": "2023-04-22T14:19:41.488658Z"
    }
   }
  },
  {
   "cell_type": "code",
   "execution_count": 8,
   "outputs": [
    {
     "name": "stdout",
     "output_type": "stream",
     "text": [
      "{'neg': 0.038, 'neu': 0.848, 'pos': 0.113, 'compound': 0.5719}\n"
     ]
    }
   ],
   "source": [
    "print(scores2)"
   ],
   "metadata": {
    "collapsed": false,
    "ExecuteTime": {
     "start_time": "2023-04-22T14:19:41.686630Z",
     "end_time": "2023-04-22T14:19:41.694141Z"
    }
   }
  },
  {
   "cell_type": "markdown",
   "source": [
    "## Student 3"
   ],
   "metadata": {
    "collapsed": false
   }
  },
  {
   "cell_type": "code",
   "execution_count": 9,
   "outputs": [],
   "source": [
    "st3txt = \"This chapter discusses human rights in regard to AI implementation and is helpful for understanding those rights. In addition to the content of the chapter, the queries provide me with a good understanding of how AI can be used to protect human rights.\""
   ],
   "metadata": {
    "collapsed": false,
    "ExecuteTime": {
     "start_time": "2023-04-22T14:19:54.217693Z",
     "end_time": "2023-04-22T14:19:54.220199Z"
    }
   }
  },
  {
   "cell_type": "code",
   "execution_count": 10,
   "outputs": [],
   "source": [
    "scores3 = analyzer.polarity_scores(st3txt)"
   ],
   "metadata": {
    "collapsed": false,
    "ExecuteTime": {
     "start_time": "2023-04-22T14:19:54.521676Z",
     "end_time": "2023-04-22T14:19:54.526683Z"
    }
   }
  },
  {
   "cell_type": "code",
   "execution_count": 11,
   "outputs": [
    {
     "name": "stdout",
     "output_type": "stream",
     "text": [
      "{'neg': 0.0, 'neu': 0.825, 'pos': 0.175, 'compound': 0.8074}\n"
     ]
    }
   ],
   "source": [
    "print(scores3)"
   ],
   "metadata": {
    "collapsed": false,
    "ExecuteTime": {
     "start_time": "2023-04-22T14:19:55.085252Z",
     "end_time": "2023-04-22T14:19:55.093819Z"
    }
   }
  },
  {
   "cell_type": "markdown",
   "source": [
    "## Student 4"
   ],
   "metadata": {
    "collapsed": false
   }
  },
  {
   "cell_type": "code",
   "execution_count": 12,
   "outputs": [],
   "source": [
    "st4txt = \"The chapter explains a small part of the impact of AI on basic human rights. It gives a give introduction information that can be easily extended later on.\""
   ],
   "metadata": {
    "collapsed": false,
    "ExecuteTime": {
     "start_time": "2023-04-22T14:20:07.472357Z",
     "end_time": "2023-04-22T14:20:07.474360Z"
    }
   }
  },
  {
   "cell_type": "code",
   "execution_count": 13,
   "outputs": [],
   "source": [
    "scores4 = analyzer.polarity_scores(st4txt)"
   ],
   "metadata": {
    "collapsed": false,
    "ExecuteTime": {
     "start_time": "2023-04-22T14:20:07.893673Z",
     "end_time": "2023-04-22T14:20:07.897180Z"
    }
   }
  },
  {
   "cell_type": "code",
   "execution_count": 14,
   "outputs": [
    {
     "name": "stdout",
     "output_type": "stream",
     "text": [
      "{'neg': 0.0, 'neu': 0.912, 'pos': 0.088, 'compound': 0.34}\n"
     ]
    }
   ],
   "source": [
    "print(scores4)"
   ],
   "metadata": {
    "collapsed": false,
    "ExecuteTime": {
     "start_time": "2023-04-22T14:20:08.222830Z",
     "end_time": "2023-04-22T14:20:08.231342Z"
    }
   }
  },
  {
   "cell_type": "markdown",
   "source": [
    "## Student 5"
   ],
   "metadata": {
    "collapsed": false
   }
  },
  {
   "cell_type": "code",
   "execution_count": 15,
   "outputs": [],
   "source": [
    "st5txt = \"The questions were all partially understandable. Some questions were formulated too vaguely for me. I didn't quite understand what was supposed to be written. <br /> <br /> It was also extremely difficult to find good answers to the questions.\""
   ],
   "metadata": {
    "collapsed": false,
    "ExecuteTime": {
     "start_time": "2023-04-22T14:20:18.769409Z",
     "end_time": "2023-04-22T14:20:18.771412Z"
    }
   }
  },
  {
   "cell_type": "code",
   "execution_count": 16,
   "outputs": [],
   "source": [
    "scores5 = analyzer.polarity_scores(st5txt)"
   ],
   "metadata": {
    "collapsed": false,
    "ExecuteTime": {
     "start_time": "2023-04-22T14:20:19.110332Z",
     "end_time": "2023-04-22T14:20:19.113867Z"
    }
   }
  },
  {
   "cell_type": "code",
   "execution_count": 17,
   "outputs": [
    {
     "name": "stdout",
     "output_type": "stream",
     "text": [
      "{'neg': 0.065, 'neu': 0.867, 'pos': 0.068, 'compound': 0.0276}\n"
     ]
    }
   ],
   "source": [
    "print(scores5)"
   ],
   "metadata": {
    "collapsed": false,
    "ExecuteTime": {
     "start_time": "2023-04-22T14:20:19.446639Z",
     "end_time": "2023-04-22T14:20:19.454700Z"
    }
   }
  },
  {
   "cell_type": "markdown",
   "source": [
    "## Student 6"
   ],
   "metadata": {
    "collapsed": false
   }
  },
  {
   "cell_type": "code",
   "execution_count": 18,
   "outputs": [],
   "source": [
    "st6txt = \"It is hard to comment on the usefulness of the chapter if the words are too vague.\""
   ],
   "metadata": {
    "collapsed": false,
    "ExecuteTime": {
     "start_time": "2023-04-22T14:21:04.958007Z",
     "end_time": "2023-04-22T14:21:04.961515Z"
    }
   }
  },
  {
   "cell_type": "code",
   "execution_count": 19,
   "outputs": [],
   "source": [
    "scores6 = analyzer.polarity_scores(st6txt)"
   ],
   "metadata": {
    "collapsed": false,
    "ExecuteTime": {
     "start_time": "2023-04-22T14:21:05.443407Z",
     "end_time": "2023-04-22T14:21:05.445916Z"
    }
   }
  },
  {
   "cell_type": "code",
   "execution_count": 20,
   "outputs": [
    {
     "name": "stdout",
     "output_type": "stream",
     "text": [
      "{'neg': 0.147, 'neu': 0.737, 'pos': 0.116, 'compound': 0.1027}\n"
     ]
    }
   ],
   "source": [
    "print(scores6)"
   ],
   "metadata": {
    "collapsed": false,
    "ExecuteTime": {
     "start_time": "2023-04-22T14:21:05.732390Z",
     "end_time": "2023-04-22T14:21:05.740901Z"
    }
   }
  },
  {
   "cell_type": "markdown",
   "source": [
    "## Student 7"
   ],
   "metadata": {
    "collapsed": false
   }
  },
  {
   "cell_type": "code",
   "execution_count": 21,
   "outputs": [],
   "source": [
    "st7txt = \"This chapter is a bit difficult for me but the questions are very interesting.\""
   ],
   "metadata": {
    "collapsed": false,
    "ExecuteTime": {
     "start_time": "2023-04-22T14:21:22.517474Z",
     "end_time": "2023-04-22T14:21:22.520983Z"
    }
   }
  },
  {
   "cell_type": "code",
   "execution_count": 22,
   "outputs": [],
   "source": [
    "scores7 = analyzer.polarity_scores(st7txt)"
   ],
   "metadata": {
    "collapsed": false,
    "ExecuteTime": {
     "start_time": "2023-04-22T14:21:22.722761Z",
     "end_time": "2023-04-22T14:21:22.725765Z"
    }
   }
  },
  {
   "cell_type": "code",
   "execution_count": 23,
   "outputs": [
    {
     "name": "stdout",
     "output_type": "stream",
     "text": [
      "{'neg': 0.105, 'neu': 0.657, 'pos': 0.238, 'compound': 0.5006}\n"
     ]
    }
   ],
   "source": [
    "print(scores7)"
   ],
   "metadata": {
    "collapsed": false,
    "ExecuteTime": {
     "start_time": "2023-04-22T14:21:23.035237Z",
     "end_time": "2023-04-22T14:21:23.043748Z"
    }
   }
  },
  {
   "cell_type": "markdown",
   "source": [
    "## Student 8"
   ],
   "metadata": {
    "collapsed": false
   }
  },
  {
   "cell_type": "code",
   "execution_count": 24,
   "outputs": [],
   "source": [
    "st8txt = \"This chapter was very helpful in understanding the aspects of AI on different human rights.\""
   ],
   "metadata": {
    "collapsed": false,
    "ExecuteTime": {
     "start_time": "2023-04-22T14:21:36.732656Z",
     "end_time": "2023-04-22T14:21:36.736164Z"
    }
   }
  },
  {
   "cell_type": "code",
   "execution_count": 25,
   "outputs": [],
   "source": [
    "scores8 = analyzer.polarity_scores(st8txt)"
   ],
   "metadata": {
    "collapsed": false,
    "ExecuteTime": {
     "start_time": "2023-04-22T14:21:36.962241Z",
     "end_time": "2023-04-22T14:21:36.965245Z"
    }
   }
  },
  {
   "cell_type": "code",
   "execution_count": 26,
   "outputs": [
    {
     "name": "stdout",
     "output_type": "stream",
     "text": [
      "{'neg': 0.0, 'neu': 0.819, 'pos': 0.181, 'compound': 0.4754}\n"
     ]
    }
   ],
   "source": [
    "print(scores8)"
   ],
   "metadata": {
    "collapsed": false,
    "ExecuteTime": {
     "start_time": "2023-04-22T14:21:37.258465Z",
     "end_time": "2023-04-22T14:21:37.266473Z"
    }
   }
  },
  {
   "cell_type": "markdown",
   "source": [
    "## Student 9"
   ],
   "metadata": {
    "collapsed": false
   }
  },
  {
   "cell_type": "code",
   "execution_count": 27,
   "outputs": [],
   "source": [
    "st9txt = \"It was a useful, clear and easy to follow chapter. It is important to consider the implications of AI and the potential benefits and drawbacks it may have on society. Creating laws and conventions for AI can help shape a better system where AI can benefit everyone equally.\""
   ],
   "metadata": {
    "collapsed": false,
    "ExecuteTime": {
     "start_time": "2023-04-22T14:21:52.956987Z",
     "end_time": "2023-04-22T14:21:52.979300Z"
    }
   }
  },
  {
   "cell_type": "code",
   "execution_count": 28,
   "outputs": [],
   "source": [
    "scores9 = analyzer.polarity_scores(st9txt)"
   ],
   "metadata": {
    "collapsed": false,
    "ExecuteTime": {
     "start_time": "2023-04-22T14:21:54.402760Z",
     "end_time": "2023-04-22T14:21:54.405764Z"
    }
   }
  },
  {
   "cell_type": "code",
   "execution_count": 29,
   "outputs": [
    {
     "name": "stdout",
     "output_type": "stream",
     "text": [
      "{'neg': 0.0, 'neu': 0.611, 'pos': 0.389, 'compound': 0.9666}\n"
     ]
    }
   ],
   "source": [
    "print(scores9)"
   ],
   "metadata": {
    "collapsed": false,
    "ExecuteTime": {
     "start_time": "2023-04-22T14:21:54.698730Z",
     "end_time": "2023-04-22T14:21:54.739454Z"
    }
   }
  },
  {
   "cell_type": "markdown",
   "source": [
    "## Student 10"
   ],
   "metadata": {
    "collapsed": false
   }
  },
  {
   "cell_type": "code",
   "execution_count": 30,
   "outputs": [],
   "source": [
    "st10txt = \"I found it quite hard to always find a simple link between the rights and AI\""
   ],
   "metadata": {
    "collapsed": false,
    "ExecuteTime": {
     "start_time": "2023-04-22T14:22:07.597456Z",
     "end_time": "2023-04-22T14:22:07.600460Z"
    }
   }
  },
  {
   "cell_type": "code",
   "execution_count": 31,
   "outputs": [],
   "source": [
    "scores10 = analyzer.polarity_scores(st10txt)"
   ],
   "metadata": {
    "collapsed": false,
    "ExecuteTime": {
     "start_time": "2023-04-22T14:22:07.930164Z",
     "end_time": "2023-04-22T14:22:07.933672Z"
    }
   }
  },
  {
   "cell_type": "code",
   "execution_count": 32,
   "outputs": [
    {
     "name": "stdout",
     "output_type": "stream",
     "text": [
      "{'neg': 0.115, 'neu': 0.885, 'pos': 0.0, 'compound': -0.1761}\n"
     ]
    }
   ],
   "source": [
    "print(scores10)"
   ],
   "metadata": {
    "collapsed": false,
    "ExecuteTime": {
     "start_time": "2023-04-22T14:22:08.241532Z",
     "end_time": "2023-04-22T14:22:08.249043Z"
    }
   }
  },
  {
   "cell_type": "markdown",
   "source": [
    "## Student 11"
   ],
   "metadata": {
    "collapsed": false
   }
  },
  {
   "cell_type": "code",
   "execution_count": 33,
   "outputs": [],
   "source": [
    "st11txt = \"The chapter was useful in understanding various policies regading AI.\""
   ],
   "metadata": {
    "collapsed": false,
    "ExecuteTime": {
     "start_time": "2023-04-22T14:22:25.066156Z",
     "end_time": "2023-04-22T14:22:25.068162Z"
    }
   }
  },
  {
   "cell_type": "code",
   "execution_count": 34,
   "outputs": [],
   "source": [
    "scores11 = analyzer.polarity_scores(st11txt)"
   ],
   "metadata": {
    "collapsed": false,
    "ExecuteTime": {
     "start_time": "2023-04-22T14:22:25.409421Z",
     "end_time": "2023-04-22T14:22:25.411424Z"
    }
   }
  },
  {
   "cell_type": "code",
   "execution_count": 35,
   "outputs": [
    {
     "name": "stdout",
     "output_type": "stream",
     "text": [
      "{'neg': 0.0, 'neu': 0.756, 'pos': 0.244, 'compound': 0.4404}\n"
     ]
    }
   ],
   "source": [
    "print(scores11)"
   ],
   "metadata": {
    "collapsed": false,
    "ExecuteTime": {
     "start_time": "2023-04-22T14:22:25.752007Z",
     "end_time": "2023-04-22T14:22:25.761331Z"
    }
   }
  },
  {
   "cell_type": "markdown",
   "source": [
    "## Student 12"
   ],
   "metadata": {
    "collapsed": false
   }
  },
  {
   "cell_type": "code",
   "execution_count": 39,
   "outputs": [],
   "source": [
    "# Student 12 skipped, maybe remove from hte avg\n",
    "st12txt = \"\""
   ],
   "metadata": {
    "collapsed": false,
    "ExecuteTime": {
     "start_time": "2023-04-22T14:23:15.376526Z",
     "end_time": "2023-04-22T14:23:15.380035Z"
    }
   }
  },
  {
   "cell_type": "code",
   "execution_count": 40,
   "outputs": [],
   "source": [
    "scores12 = analyzer.polarity_scores(st12txt)"
   ],
   "metadata": {
    "collapsed": false,
    "ExecuteTime": {
     "start_time": "2023-04-22T14:23:15.550188Z",
     "end_time": "2023-04-22T14:23:15.553192Z"
    }
   }
  },
  {
   "cell_type": "code",
   "execution_count": 41,
   "outputs": [
    {
     "name": "stdout",
     "output_type": "stream",
     "text": [
      "{'neg': 0.0, 'neu': 0.0, 'pos': 0.0, 'compound': 0.0}\n"
     ]
    }
   ],
   "source": [
    "print(scores12)"
   ],
   "metadata": {
    "collapsed": false,
    "ExecuteTime": {
     "start_time": "2023-04-22T14:23:15.879046Z",
     "end_time": "2023-04-22T14:23:15.887557Z"
    }
   }
  },
  {
   "cell_type": "markdown",
   "source": [
    "## Student 13"
   ],
   "metadata": {
    "collapsed": false
   }
  },
  {
   "cell_type": "code",
   "execution_count": 42,
   "outputs": [],
   "source": [
    "st13txt = \"Chapter 5 is all about a brief discussion about AI ethics in Human Rights. If someone wants to implement or develop an Artificial Intelligence System he/she must have to maintain the rules which must be followed by the ethical rules of AI. This chapter is divided into several articles which represent Human Rights rules to manage an AI system that is clear and concise.\""
   ],
   "metadata": {
    "collapsed": false,
    "ExecuteTime": {
     "start_time": "2023-04-22T14:23:28.776578Z",
     "end_time": "2023-04-22T14:23:28.779582Z"
    }
   }
  },
  {
   "cell_type": "code",
   "execution_count": 43,
   "outputs": [],
   "source": [
    "scores13 = analyzer.polarity_scores(st13txt)"
   ],
   "metadata": {
    "collapsed": false,
    "ExecuteTime": {
     "start_time": "2023-04-22T14:23:29.095484Z",
     "end_time": "2023-04-22T14:23:29.098488Z"
    }
   }
  },
  {
   "cell_type": "code",
   "execution_count": 44,
   "outputs": [
    {
     "name": "stdout",
     "output_type": "stream",
     "text": [
      "{'neg': 0.0, 'neu': 0.868, 'pos': 0.132, 'compound': 0.8402}\n"
     ]
    }
   ],
   "source": [
    "print(scores13)"
   ],
   "metadata": {
    "collapsed": false,
    "ExecuteTime": {
     "start_time": "2023-04-22T14:23:29.453399Z",
     "end_time": "2023-04-22T14:23:29.461956Z"
    }
   }
  },
  {
   "cell_type": "markdown",
   "source": [
    "## Student 14"
   ],
   "metadata": {
    "collapsed": false
   }
  },
  {
   "cell_type": "code",
   "execution_count": 46,
   "outputs": [],
   "source": [
    "st14txt = \"Some kind of feedback for the student could be nice.<br /> somehow I found the first question hard to answer\""
   ],
   "metadata": {
    "collapsed": false,
    "ExecuteTime": {
     "start_time": "2023-04-22T14:26:30.746493Z",
     "end_time": "2023-04-22T14:26:30.750005Z"
    }
   }
  },
  {
   "cell_type": "code",
   "execution_count": 47,
   "outputs": [],
   "source": [
    "scores14 = analyzer.polarity_scores(st14txt)"
   ],
   "metadata": {
    "collapsed": false,
    "ExecuteTime": {
     "start_time": "2023-04-22T14:26:31.031403Z",
     "end_time": "2023-04-22T14:26:31.034406Z"
    }
   }
  },
  {
   "cell_type": "code",
   "execution_count": 48,
   "outputs": [
    {
     "name": "stdout",
     "output_type": "stream",
     "text": [
      "{'neg': 0.072, 'neu': 0.928, 'pos': 0.0, 'compound': -0.1027}\n"
     ]
    }
   ],
   "source": [
    "print(scores14)"
   ],
   "metadata": {
    "collapsed": false,
    "ExecuteTime": {
     "start_time": "2023-04-22T14:26:31.366894Z",
     "end_time": "2023-04-22T14:26:31.375406Z"
    }
   }
  },
  {
   "cell_type": "markdown",
   "source": [
    "## Student 15"
   ],
   "metadata": {
    "collapsed": false
   }
  },
  {
   "cell_type": "code",
   "execution_count": 49,
   "outputs": [],
   "source": [
    "st15txt = \"This chapter was very difficult and to some level unclear as relating human rights to ai can be somewhat abstract.\""
   ],
   "metadata": {
    "collapsed": false,
    "ExecuteTime": {
     "start_time": "2023-04-22T14:26:43.545955Z",
     "end_time": "2023-04-22T14:26:43.548959Z"
    }
   }
  },
  {
   "cell_type": "code",
   "execution_count": 50,
   "outputs": [],
   "source": [
    "scores15 = analyzer.polarity_scores(st15txt)"
   ],
   "metadata": {
    "collapsed": false,
    "ExecuteTime": {
     "start_time": "2023-04-22T14:26:43.741501Z",
     "end_time": "2023-04-22T14:26:43.745007Z"
    }
   }
  },
  {
   "cell_type": "code",
   "execution_count": 51,
   "outputs": [
    {
     "name": "stdout",
     "output_type": "stream",
     "text": [
      "{'neg': 0.21, 'neu': 0.79, 'pos': 0.0, 'compound': -0.5849}\n"
     ]
    }
   ],
   "source": [
    "print(scores15)"
   ],
   "metadata": {
    "collapsed": false,
    "ExecuteTime": {
     "start_time": "2023-04-22T14:26:44.014355Z",
     "end_time": "2023-04-22T14:26:44.022866Z"
    }
   }
  },
  {
   "cell_type": "markdown",
   "source": [
    "## Student 16"
   ],
   "metadata": {
    "collapsed": false
   }
  },
  {
   "cell_type": "code",
   "execution_count": 55,
   "outputs": [],
   "source": [
    "st16txt = \"this was a very long chapter\""
   ],
   "metadata": {
    "collapsed": false,
    "ExecuteTime": {
     "start_time": "2023-04-22T14:31:38.812555Z",
     "end_time": "2023-04-22T14:31:38.817578Z"
    }
   }
  },
  {
   "cell_type": "code",
   "execution_count": 56,
   "outputs": [],
   "source": [
    "scores16 = analyzer.polarity_scores(st16txt)"
   ],
   "metadata": {
    "collapsed": false,
    "ExecuteTime": {
     "start_time": "2023-04-22T14:31:39.010400Z",
     "end_time": "2023-04-22T14:31:39.013405Z"
    }
   }
  },
  {
   "cell_type": "code",
   "execution_count": 57,
   "outputs": [
    {
     "name": "stdout",
     "output_type": "stream",
     "text": [
      "{'neg': 0.0, 'neu': 1.0, 'pos': 0.0, 'compound': 0.0}\n"
     ]
    }
   ],
   "source": [
    "print(scores16)"
   ],
   "metadata": {
    "collapsed": false,
    "ExecuteTime": {
     "start_time": "2023-04-22T14:31:39.209804Z",
     "end_time": "2023-04-22T14:31:39.213311Z"
    }
   }
  },
  {
   "cell_type": "code",
   "execution_count": 58,
   "outputs": [
    {
     "name": "stdout",
     "output_type": "stream",
     "text": [
      "0.28245624999999996\n"
     ]
    }
   ],
   "source": [
    "# create a list of dictionaries to add\n",
    "scores_list = [scores1, scores2, scores3, scores4, scores5, scores6, scores7, scores8,\n",
    "               scores9, scores10, scores11, scores12, scores13, scores14, scores15, scores16]\n",
    "\n",
    "# specify the key i need, in this case, compound\n",
    "key = 'compound'\n",
    "\n",
    "# create a list to store the values of each key that i will extract from each dict\n",
    "values_list = []\n",
    "\n",
    "# loop over the list of dictionaries and extract the values for the specific key\n",
    "for d in scores_list:\n",
    "    if key in d:\n",
    "        values_list.append(d[key])\n",
    "\n",
    "# calculate the average of the values:\n",
    "average = np.mean(values_list)\n",
    "\n",
    "print(average)"
   ],
   "metadata": {
    "collapsed": false,
    "ExecuteTime": {
     "start_time": "2023-04-22T14:31:39.803117Z",
     "end_time": "2023-04-22T14:31:39.810169Z"
    }
   }
  },
  {
   "cell_type": "markdown",
   "source": [
    "# Week 5/ chapter 5 scores\n",
    "\n",
    "### The average score for week one sentiment analysis is 0.282 (1 being the most positive, 0 neutral, and -1 being negative)\n",
    "### But pleaes note that some questions had a compound score of 0 since they were just neutral."
   ],
   "metadata": {
    "collapsed": false
   }
  }
 ],
 "metadata": {
  "kernelspec": {
   "display_name": "Python 3",
   "language": "python",
   "name": "python3"
  },
  "language_info": {
   "codemirror_mode": {
    "name": "ipython",
    "version": 2
   },
   "file_extension": ".py",
   "mimetype": "text/x-python",
   "name": "python",
   "nbconvert_exporter": "python",
   "pygments_lexer": "ipython2",
   "version": "2.7.6"
  }
 },
 "nbformat": 4,
 "nbformat_minor": 0
}
