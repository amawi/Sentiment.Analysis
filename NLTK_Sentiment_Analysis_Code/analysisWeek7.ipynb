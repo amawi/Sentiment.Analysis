{
 "cells": [
  {
   "cell_type": "code",
   "execution_count": 1,
   "metadata": {
    "collapsed": true,
    "ExecuteTime": {
     "start_time": "2023-04-22T15:09:37.479929Z",
     "end_time": "2023-04-22T15:09:38.423844Z"
    }
   },
   "outputs": [
    {
     "name": "stderr",
     "output_type": "stream",
     "text": [
      "[nltk_data] Downloading package vader_lexicon to\n",
      "[nltk_data]     C:\\Users\\Abdullah\\AppData\\Roaming\\nltk_data...\n",
      "[nltk_data]   Package vader_lexicon is already up-to-date!\n"
     ]
    }
   ],
   "source": [
    "import nltk\n",
    "nltk.download('vader_lexicon')\n",
    "from nltk.sentiment import SentimentIntensityAnalyzer\n",
    "\n",
    "import numpy as np"
   ]
  },
  {
   "cell_type": "code",
   "execution_count": 2,
   "outputs": [],
   "source": [
    "analyzer = SentimentIntensityAnalyzer()\n"
   ],
   "metadata": {
    "collapsed": false,
    "ExecuteTime": {
     "start_time": "2023-04-22T15:09:38.424844Z",
     "end_time": "2023-04-22T15:09:38.432880Z"
    }
   }
  },
  {
   "cell_type": "markdown",
   "source": [
    "## We start the analysis for each student"
   ],
   "metadata": {
    "collapsed": false
   }
  },
  {
   "cell_type": "markdown",
   "source": [
    "### Student 1"
   ],
   "metadata": {
    "collapsed": false
   }
  },
  {
   "cell_type": "code",
   "execution_count": 3,
   "outputs": [],
   "source": [
    "st1txt = \"It was very informative as research was required.\""
   ],
   "metadata": {
    "collapsed": false,
    "ExecuteTime": {
     "start_time": "2023-04-22T15:09:53.177012Z",
     "end_time": "2023-04-22T15:09:53.180065Z"
    }
   }
  },
  {
   "cell_type": "code",
   "execution_count": 4,
   "outputs": [],
   "source": [
    "scores1 = analyzer.polarity_scores(st1txt)"
   ],
   "metadata": {
    "collapsed": false,
    "ExecuteTime": {
     "start_time": "2023-04-22T15:09:53.471513Z",
     "end_time": "2023-04-22T15:09:53.473517Z"
    }
   }
  },
  {
   "cell_type": "code",
   "execution_count": 5,
   "outputs": [
    {
     "name": "stdout",
     "output_type": "stream",
     "text": [
      "{'neg': 0.0, 'neu': 1.0, 'pos': 0.0, 'compound': 0.0}\n"
     ]
    }
   ],
   "source": [
    "print(scores1)"
   ],
   "metadata": {
    "collapsed": false,
    "ExecuteTime": {
     "start_time": "2023-04-22T15:09:53.831030Z",
     "end_time": "2023-04-22T15:09:53.838590Z"
    }
   }
  },
  {
   "cell_type": "markdown",
   "source": [
    "## Student 2"
   ],
   "metadata": {
    "collapsed": false
   }
  },
  {
   "cell_type": "code",
   "execution_count": 6,
   "outputs": [],
   "source": [
    "# student 2 constantly skips feedback.\n",
    "st2txt = \"NAN\""
   ],
   "metadata": {
    "collapsed": false,
    "ExecuteTime": {
     "start_time": "2023-04-22T15:10:19.286953Z",
     "end_time": "2023-04-22T15:10:19.290460Z"
    }
   }
  },
  {
   "cell_type": "code",
   "execution_count": 7,
   "outputs": [],
   "source": [
    "scores2 = analyzer.polarity_scores(st2txt)"
   ],
   "metadata": {
    "collapsed": false,
    "ExecuteTime": {
     "start_time": "2023-04-22T15:10:19.573142Z",
     "end_time": "2023-04-22T15:10:19.575650Z"
    }
   }
  },
  {
   "cell_type": "code",
   "execution_count": 8,
   "outputs": [
    {
     "name": "stdout",
     "output_type": "stream",
     "text": [
      "{'neg': 0.0, 'neu': 1.0, 'pos': 0.0, 'compound': 0.0}\n"
     ]
    }
   ],
   "source": [
    "print(scores2)"
   ],
   "metadata": {
    "collapsed": false,
    "ExecuteTime": {
     "start_time": "2023-04-22T15:10:19.878198Z",
     "end_time": "2023-04-22T15:10:19.885708Z"
    }
   }
  },
  {
   "cell_type": "markdown",
   "source": [
    "## Student 3"
   ],
   "metadata": {
    "collapsed": false
   }
  },
  {
   "cell_type": "code",
   "execution_count": 18,
   "outputs": [],
   "source": [
    "#Student 3 always writes and elaborates.\n",
    "st3txt = \"This chapter is very helpful in understanding the measures we need to take while implementing AI practices. The content and the article shared in this chapter are clear and easy to build an understanding of AI ethics currently in practice.\""
   ],
   "metadata": {
    "collapsed": false,
    "ExecuteTime": {
     "start_time": "2023-04-22T15:11:26.686545Z",
     "end_time": "2023-04-22T15:11:26.689549Z"
    }
   }
  },
  {
   "cell_type": "code",
   "execution_count": 19,
   "outputs": [],
   "source": [
    "scores3 = analyzer.polarity_scores(st3txt)"
   ],
   "metadata": {
    "collapsed": false,
    "ExecuteTime": {
     "start_time": "2023-04-22T15:11:28.753823Z",
     "end_time": "2023-04-22T15:11:28.756329Z"
    }
   }
  },
  {
   "cell_type": "code",
   "execution_count": 20,
   "outputs": [
    {
     "name": "stdout",
     "output_type": "stream",
     "text": [
      "{'neg': 0.0, 'neu': 0.766, 'pos': 0.234, 'compound': 0.8748}\n"
     ]
    }
   ],
   "source": [
    "print(scores3)"
   ],
   "metadata": {
    "collapsed": false,
    "ExecuteTime": {
     "start_time": "2023-04-22T15:11:28.922582Z",
     "end_time": "2023-04-22T15:11:28.930589Z"
    }
   }
  },
  {
   "cell_type": "markdown",
   "source": [
    "## Student 4"
   ],
   "metadata": {
    "collapsed": false
   }
  },
  {
   "cell_type": "code",
   "execution_count": 21,
   "outputs": [],
   "source": [
    "#Student 4 always writes and elaborates.\n",
    "st4txt = \"The chapter was interesting since it gives multiple sources to different interesting articles, which are more up-to-date compared to published papers. In my opinion, sharing such articles gives more new information. Because paper publication (from the research until the publication of the journal) takes a very long time. In such as fast-changing field, some papers are already old when they are published. Therefore, I value such articles more.\""
   ],
   "metadata": {
    "collapsed": false,
    "ExecuteTime": {
     "start_time": "2023-04-22T15:11:29.198996Z",
     "end_time": "2023-04-22T15:11:29.202504Z"
    }
   }
  },
  {
   "cell_type": "code",
   "execution_count": 22,
   "outputs": [],
   "source": [
    "scores4 = analyzer.polarity_scores(st4txt)"
   ],
   "metadata": {
    "collapsed": false,
    "ExecuteTime": {
     "start_time": "2023-04-22T15:11:29.595012Z",
     "end_time": "2023-04-22T15:11:29.598308Z"
    }
   }
  },
  {
   "cell_type": "code",
   "execution_count": 23,
   "outputs": [
    {
     "name": "stdout",
     "output_type": "stream",
     "text": [
      "{'neg': 0.0, 'neu': 0.854, 'pos': 0.146, 'compound': 0.8625}\n"
     ]
    }
   ],
   "source": [
    "print(scores4)"
   ],
   "metadata": {
    "collapsed": false,
    "ExecuteTime": {
     "start_time": "2023-04-22T15:11:29.947344Z",
     "end_time": "2023-04-22T15:11:29.955855Z"
    }
   }
  },
  {
   "cell_type": "markdown",
   "source": [
    "## Student 5"
   ],
   "metadata": {
    "collapsed": false
   }
  },
  {
   "cell_type": "code",
   "execution_count": 24,
   "outputs": [],
   "source": [
    "st5txt = \"In some cases, it was not clear to me what the message was in the presented texts.\""
   ],
   "metadata": {
    "collapsed": false,
    "ExecuteTime": {
     "start_time": "2023-04-22T15:11:31.134692Z",
     "end_time": "2023-04-22T15:11:31.138702Z"
    }
   }
  },
  {
   "cell_type": "code",
   "execution_count": 25,
   "outputs": [],
   "source": [
    "scores5 = analyzer.polarity_scores(st5txt)"
   ],
   "metadata": {
    "collapsed": false,
    "ExecuteTime": {
     "start_time": "2023-04-22T15:11:31.786381Z",
     "end_time": "2023-04-22T15:11:31.789385Z"
    }
   }
  },
  {
   "cell_type": "code",
   "execution_count": 26,
   "outputs": [
    {
     "name": "stdout",
     "output_type": "stream",
     "text": [
      "{'neg': 0.12, 'neu': 0.88, 'pos': 0.0, 'compound': -0.2924}\n"
     ]
    }
   ],
   "source": [
    "print(scores5)"
   ],
   "metadata": {
    "collapsed": false,
    "ExecuteTime": {
     "start_time": "2023-04-22T15:11:32.353570Z",
     "end_time": "2023-04-22T15:11:32.356573Z"
    }
   }
  },
  {
   "cell_type": "markdown",
   "source": [
    "## Student 6"
   ],
   "metadata": {
    "collapsed": false
   }
  },
  {
   "cell_type": "code",
   "execution_count": 30,
   "outputs": [],
   "source": [
    "#Student6 always writes generic negative answers, and in multiple cases copy-pasted those answer over multiple questions, does not participate in an honest manner.\n",
    "st6txt = \"I appreciated the first excerpt from Karen Hao. I think the last excerpt was not chosen well by the person who designed this survey. My reason is stated in the answer to the corresponding question.\""
   ],
   "metadata": {
    "collapsed": false,
    "ExecuteTime": {
     "start_time": "2023-04-22T15:13:30.304322Z",
     "end_time": "2023-04-22T15:13:30.307326Z"
    }
   }
  },
  {
   "cell_type": "code",
   "execution_count": 31,
   "outputs": [],
   "source": [
    "scores6 = analyzer.polarity_scores(st6txt)"
   ],
   "metadata": {
    "collapsed": false,
    "ExecuteTime": {
     "start_time": "2023-04-22T15:13:30.516513Z",
     "end_time": "2023-04-22T15:13:30.520896Z"
    }
   }
  },
  {
   "cell_type": "code",
   "execution_count": 32,
   "outputs": [
    {
     "name": "stdout",
     "output_type": "stream",
     "text": [
      "{'neg': 0.05, 'neu': 0.858, 'pos': 0.091, 'compound': 0.3582}\n"
     ]
    }
   ],
   "source": [
    "print(scores6)"
   ],
   "metadata": {
    "collapsed": false,
    "ExecuteTime": {
     "start_time": "2023-04-22T15:13:31.069238Z",
     "end_time": "2023-04-22T15:13:31.077246Z"
    }
   }
  },
  {
   "cell_type": "markdown",
   "source": [
    "## Student 7"
   ],
   "metadata": {
    "collapsed": false
   }
  },
  {
   "cell_type": "code",
   "execution_count": 33,
   "outputs": [],
   "source": [
    "st7txt = \"The article provide in this chapter is really great and the difficulty is medium.\""
   ],
   "metadata": {
    "collapsed": false,
    "ExecuteTime": {
     "start_time": "2023-04-22T15:13:46.569542Z",
     "end_time": "2023-04-22T15:13:46.572546Z"
    }
   }
  },
  {
   "cell_type": "code",
   "execution_count": 34,
   "outputs": [],
   "source": [
    "scores7 = analyzer.polarity_scores(st7txt)"
   ],
   "metadata": {
    "collapsed": false,
    "ExecuteTime": {
     "start_time": "2023-04-22T15:13:46.805054Z",
     "end_time": "2023-04-22T15:13:46.808057Z"
    }
   }
  },
  {
   "cell_type": "code",
   "execution_count": 35,
   "outputs": [
    {
     "name": "stdout",
     "output_type": "stream",
     "text": [
      "{'neg': 0.128, 'neu': 0.639, 'pos': 0.234, 'compound': 0.4576}\n"
     ]
    }
   ],
   "source": [
    "print(scores7)"
   ],
   "metadata": {
    "collapsed": false,
    "ExecuteTime": {
     "start_time": "2023-04-22T15:13:47.135412Z",
     "end_time": "2023-04-22T15:13:47.143922Z"
    }
   }
  },
  {
   "cell_type": "markdown",
   "source": [
    "## Student 8"
   ],
   "metadata": {
    "collapsed": false
   }
  },
  {
   "cell_type": "code",
   "execution_count": 36,
   "outputs": [],
   "source": [
    "st8txt = \"As a final chapter I found the length of content and questions just right and easy to follow. I have nothing to complain about and sorry for my delay at answering this chapter\""
   ],
   "metadata": {
    "collapsed": false,
    "ExecuteTime": {
     "start_time": "2023-04-22T15:13:56.040632Z",
     "end_time": "2023-04-22T15:13:56.043697Z"
    }
   }
  },
  {
   "cell_type": "code",
   "execution_count": 37,
   "outputs": [],
   "source": [
    "scores8 = analyzer.polarity_scores(st8txt)"
   ],
   "metadata": {
    "collapsed": false,
    "ExecuteTime": {
     "start_time": "2023-04-22T15:13:56.221090Z",
     "end_time": "2023-04-22T15:13:56.224094Z"
    }
   }
  },
  {
   "cell_type": "code",
   "execution_count": 38,
   "outputs": [
    {
     "name": "stdout",
     "output_type": "stream",
     "text": [
      "{'neg': 0.104, 'neu': 0.751, 'pos': 0.145, 'compound': 0.3421}\n"
     ]
    }
   ],
   "source": [
    "print(scores8)"
   ],
   "metadata": {
    "collapsed": false,
    "ExecuteTime": {
     "start_time": "2023-04-22T15:13:56.380424Z",
     "end_time": "2023-04-22T15:13:56.388984Z"
    }
   }
  },
  {
   "cell_type": "markdown",
   "source": [
    "## Student 9"
   ],
   "metadata": {
    "collapsed": false
   }
  },
  {
   "cell_type": "code",
   "execution_count": 39,
   "outputs": [],
   "source": [
    "st9txt = \"I liked the different input on the ethical question\""
   ],
   "metadata": {
    "collapsed": false,
    "ExecuteTime": {
     "start_time": "2023-04-22T15:14:06.512159Z",
     "end_time": "2023-04-22T15:14:06.515164Z"
    }
   }
  },
  {
   "cell_type": "code",
   "execution_count": 40,
   "outputs": [],
   "source": [
    "scores9 = analyzer.polarity_scores(st9txt)"
   ],
   "metadata": {
    "collapsed": false,
    "ExecuteTime": {
     "start_time": "2023-04-22T15:14:06.692273Z",
     "end_time": "2023-04-22T15:14:06.695277Z"
    }
   }
  },
  {
   "cell_type": "code",
   "execution_count": 41,
   "outputs": [
    {
     "name": "stdout",
     "output_type": "stream",
     "text": [
      "{'neg': 0.0, 'neu': 0.496, 'pos': 0.504, 'compound': 0.7269}\n"
     ]
    }
   ],
   "source": [
    "print(scores9)"
   ],
   "metadata": {
    "collapsed": false,
    "ExecuteTime": {
     "start_time": "2023-04-22T15:14:06.859871Z",
     "end_time": "2023-04-22T15:14:06.868382Z"
    }
   }
  },
  {
   "cell_type": "markdown",
   "source": [
    "## Student 10"
   ],
   "metadata": {
    "collapsed": false
   }
  },
  {
   "cell_type": "code",
   "execution_count": 42,
   "outputs": [],
   "source": [
    "st10txt = \"It was informative and welcomed various perspectives.\""
   ],
   "metadata": {
    "collapsed": false,
    "ExecuteTime": {
     "start_time": "2023-04-22T15:14:15.430503Z",
     "end_time": "2023-04-22T15:14:15.435508Z"
    }
   }
  },
  {
   "cell_type": "code",
   "execution_count": 43,
   "outputs": [],
   "source": [
    "scores10 = analyzer.polarity_scores(st10txt)"
   ],
   "metadata": {
    "collapsed": false,
    "ExecuteTime": {
     "start_time": "2023-04-22T15:14:15.635941Z",
     "end_time": "2023-04-22T15:14:15.638945Z"
    }
   }
  },
  {
   "cell_type": "code",
   "execution_count": 44,
   "outputs": [
    {
     "name": "stdout",
     "output_type": "stream",
     "text": [
      "{'neg': 0.0, 'neu': 0.714, 'pos': 0.286, 'compound': 0.34}\n"
     ]
    }
   ],
   "source": [
    "print(scores10)"
   ],
   "metadata": {
    "collapsed": false,
    "ExecuteTime": {
     "start_time": "2023-04-22T15:14:16.036911Z",
     "end_time": "2023-04-22T15:14:16.047506Z"
    }
   }
  },
  {
   "cell_type": "markdown",
   "source": [
    "## Student 11"
   ],
   "metadata": {
    "collapsed": false
   }
  },
  {
   "cell_type": "code",
   "execution_count": 45,
   "outputs": [],
   "source": [
    "st11txt = \"This chapter was very nice as it detailed concise, short excerises which both sparked research and further interest as well as flexing the existing ethics-muscle while not being too much.\""
   ],
   "metadata": {
    "collapsed": false,
    "ExecuteTime": {
     "start_time": "2023-04-22T15:14:35.693252Z",
     "end_time": "2023-04-22T15:14:35.696256Z"
    }
   }
  },
  {
   "cell_type": "code",
   "execution_count": 46,
   "outputs": [],
   "source": [
    "scores11 = analyzer.polarity_scores(st11txt)"
   ],
   "metadata": {
    "collapsed": false,
    "ExecuteTime": {
     "start_time": "2023-04-22T15:14:36.122550Z",
     "end_time": "2023-04-22T15:14:36.125554Z"
    }
   }
  },
  {
   "cell_type": "code",
   "execution_count": 47,
   "outputs": [
    {
     "name": "stdout",
     "output_type": "stream",
     "text": [
      "{'neg': 0.0, 'neu': 0.767, 'pos': 0.233, 'compound': 0.8016}\n"
     ]
    }
   ],
   "source": [
    "print(scores11)"
   ],
   "metadata": {
    "collapsed": false,
    "ExecuteTime": {
     "start_time": "2023-04-22T15:14:36.435823Z",
     "end_time": "2023-04-22T15:14:36.444335Z"
    }
   }
  },
  {
   "cell_type": "markdown",
   "source": [
    "## Student 12"
   ],
   "metadata": {
    "collapsed": false
   }
  },
  {
   "cell_type": "code",
   "execution_count": 48,
   "outputs": [],
   "source": [
    "st12txt = \"The definitions and principles are clear to understand and useful. The idea of a shared project is really interesting. The guidelines are also supportive enough to perform ethical issues. Even anyone can move forward with the guidelines that would come out with a positive and sustainable outcomes.\""
   ],
   "metadata": {
    "collapsed": false,
    "ExecuteTime": {
     "start_time": "2023-04-22T15:14:47.572915Z",
     "end_time": "2023-04-22T15:14:47.575920Z"
    }
   }
  },
  {
   "cell_type": "code",
   "execution_count": 49,
   "outputs": [],
   "source": [
    "scores12 = analyzer.polarity_scores(st12txt)"
   ],
   "metadata": {
    "collapsed": false,
    "ExecuteTime": {
     "start_time": "2023-04-22T15:14:47.761452Z",
     "end_time": "2023-04-22T15:14:47.765782Z"
    }
   }
  },
  {
   "cell_type": "code",
   "execution_count": 50,
   "outputs": [
    {
     "name": "stdout",
     "output_type": "stream",
     "text": [
      "{'neg': 0.0, 'neu': 0.655, 'pos': 0.345, 'compound': 0.9583}\n"
     ]
    }
   ],
   "source": [
    "print(scores12)"
   ],
   "metadata": {
    "collapsed": false,
    "ExecuteTime": {
     "start_time": "2023-04-22T15:14:48.195159Z",
     "end_time": "2023-04-22T15:14:48.203670Z"
    }
   }
  },
  {
   "cell_type": "markdown",
   "source": [
    "## Student 13"
   ],
   "metadata": {
    "collapsed": false
   }
  },
  {
   "cell_type": "code",
   "execution_count": 51,
   "outputs": [],
   "source": [
    "# Student 13 always raises problems he has with his connection, laptop, studip that has nothing to do with the chapter feedback; moreover, the student complains that the survey should have been released earlier, it is obvious he did not follow the course correctly, since week 7 was already released with all the other chapters from the start of the learning module.\n",
    "st13txt = \"The quotes of this survey, I found more difficult to understand (especially the second one).\""
   ],
   "metadata": {
    "collapsed": false,
    "ExecuteTime": {
     "start_time": "2023-04-22T15:23:54.631236Z",
     "end_time": "2023-04-22T15:23:54.635241Z"
    }
   }
  },
  {
   "cell_type": "code",
   "execution_count": 52,
   "outputs": [],
   "source": [
    "scores13 = analyzer.polarity_scores(st13txt)"
   ],
   "metadata": {
    "collapsed": false,
    "ExecuteTime": {
     "start_time": "2023-04-22T15:23:55.005646Z",
     "end_time": "2023-04-22T15:23:55.008650Z"
    }
   }
  },
  {
   "cell_type": "code",
   "execution_count": 53,
   "outputs": [
    {
     "name": "stdout",
     "output_type": "stream",
     "text": [
      "{'neg': 0.177, 'neu': 0.823, 'pos': 0.0, 'compound': -0.4201}\n"
     ]
    }
   ],
   "source": [
    "print(scores13)"
   ],
   "metadata": {
    "collapsed": false,
    "ExecuteTime": {
     "start_time": "2023-04-22T15:23:55.381242Z",
     "end_time": "2023-04-22T15:23:55.389753Z"
    }
   }
  },
  {
   "cell_type": "markdown",
   "source": [
    "## Student 14"
   ],
   "metadata": {
    "collapsed": false
   }
  },
  {
   "cell_type": "code",
   "execution_count": 54,
   "outputs": [],
   "source": [
    "st14txt = \"This was overall a very good chapter with very clear concepts which made it easier to understand hence making it quite simple.\""
   ],
   "metadata": {
    "collapsed": false,
    "ExecuteTime": {
     "start_time": "2023-04-22T15:25:21.787615Z",
     "end_time": "2023-04-22T15:25:21.790619Z"
    }
   }
  },
  {
   "cell_type": "code",
   "execution_count": 55,
   "outputs": [],
   "source": [
    "scores14 = analyzer.polarity_scores(st14txt)"
   ],
   "metadata": {
    "collapsed": false,
    "ExecuteTime": {
     "start_time": "2023-04-22T15:25:22.096444Z",
     "end_time": "2023-04-22T15:25:22.099949Z"
    }
   }
  },
  {
   "cell_type": "code",
   "execution_count": 56,
   "outputs": [
    {
     "name": "stdout",
     "output_type": "stream",
     "text": [
      "{'neg': 0.0, 'neu': 0.669, 'pos': 0.331, 'compound': 0.8354}\n"
     ]
    }
   ],
   "source": [
    "print(scores14)"
   ],
   "metadata": {
    "collapsed": false,
    "ExecuteTime": {
     "start_time": "2023-04-22T15:25:22.416462Z",
     "end_time": "2023-04-22T15:25:22.424974Z"
    }
   }
  },
  {
   "cell_type": "markdown",
   "source": [
    "## Student 15"
   ],
   "metadata": {
    "collapsed": false
   }
  },
  {
   "cell_type": "code",
   "execution_count": 57,
   "outputs": [],
   "source": [
    "st15txt = \"Thank you for offering this course.\""
   ],
   "metadata": {
    "collapsed": false,
    "ExecuteTime": {
     "start_time": "2023-04-22T15:25:38.946404Z",
     "end_time": "2023-04-22T15:25:38.949409Z"
    }
   }
  },
  {
   "cell_type": "code",
   "execution_count": 58,
   "outputs": [],
   "source": [
    "scores15 = analyzer.polarity_scores(st15txt)"
   ],
   "metadata": {
    "collapsed": false,
    "ExecuteTime": {
     "start_time": "2023-04-22T15:25:39.184859Z",
     "end_time": "2023-04-22T15:25:39.188367Z"
    }
   }
  },
  {
   "cell_type": "code",
   "execution_count": 59,
   "outputs": [
    {
     "name": "stdout",
     "output_type": "stream",
     "text": [
      "{'neg': 0.0, 'neu': 0.667, 'pos': 0.333, 'compound': 0.3612}\n"
     ]
    }
   ],
   "source": [
    "print(scores15)"
   ],
   "metadata": {
    "collapsed": false,
    "ExecuteTime": {
     "start_time": "2023-04-22T15:25:39.727699Z",
     "end_time": "2023-04-22T15:25:39.736280Z"
    }
   }
  },
  {
   "cell_type": "markdown",
   "source": [
    "## Student 16"
   ],
   "metadata": {
    "collapsed": false
   }
  },
  {
   "cell_type": "code",
   "execution_count": 60,
   "outputs": [],
   "source": [
    "# Feedback was empty\n",
    "st16txt = \"\""
   ],
   "metadata": {
    "collapsed": false,
    "ExecuteTime": {
     "start_time": "2023-04-22T15:25:53.761868Z",
     "end_time": "2023-04-22T15:25:53.764924Z"
    }
   }
  },
  {
   "cell_type": "code",
   "execution_count": 61,
   "outputs": [],
   "source": [
    "scores16 = analyzer.polarity_scores(st16txt)"
   ],
   "metadata": {
    "collapsed": false,
    "ExecuteTime": {
     "start_time": "2023-04-22T15:25:54.222717Z",
     "end_time": "2023-04-22T15:25:54.225720Z"
    }
   }
  },
  {
   "cell_type": "code",
   "execution_count": 62,
   "outputs": [
    {
     "name": "stdout",
     "output_type": "stream",
     "text": [
      "{'neg': 0.0, 'neu': 0.0, 'pos': 0.0, 'compound': 0.0}\n"
     ]
    }
   ],
   "source": [
    "print(scores16)"
   ],
   "metadata": {
    "collapsed": false,
    "ExecuteTime": {
     "start_time": "2023-04-22T15:25:54.583142Z",
     "end_time": "2023-04-22T15:25:54.586679Z"
    }
   }
  },
  {
   "cell_type": "code",
   "execution_count": 63,
   "outputs": [
    {
     "name": "stdout",
     "output_type": "stream",
     "text": [
      "0.38788125\n"
     ]
    }
   ],
   "source": [
    "# create a list of dictionaries to add\n",
    "scores_list = [scores1, scores2, scores3, scores4, scores5, scores6, scores7, scores8,\n",
    "               scores9, scores10, scores11, scores12, scores13, scores14, scores15, scores16]\n",
    "\n",
    "# specify the key i need, in this case, compound\n",
    "key = 'compound'\n",
    "\n",
    "# create a list to store the values of each key that i will extract from each dict\n",
    "values_list = []\n",
    "\n",
    "# loop over the list of dictionaries and extract the values for the specific key\n",
    "for d in scores_list:\n",
    "    if key in d:\n",
    "        values_list.append(d[key])\n",
    "\n",
    "# calculate the average of the values:\n",
    "average = np.mean(values_list)\n",
    "\n",
    "print(average)"
   ],
   "metadata": {
    "collapsed": false,
    "ExecuteTime": {
     "start_time": "2023-04-22T15:25:55.360129Z",
     "end_time": "2023-04-22T15:25:55.367195Z"
    }
   }
  },
  {
   "cell_type": "markdown",
   "source": [
    "# Week 7/ Chapter 7 scores\n",
    "\n",
    "### The average score for week one sentiment analysis is 0.387 (1 being the most positive, 0 neutral, and -1 being negative)"
   ],
   "metadata": {
    "collapsed": false
   }
  },
  {
   "cell_type": "code",
   "execution_count": null,
   "outputs": [],
   "source": [],
   "metadata": {
    "collapsed": false
   }
  }
 ],
 "metadata": {
  "kernelspec": {
   "display_name": "Python 3",
   "language": "python",
   "name": "python3"
  },
  "language_info": {
   "codemirror_mode": {
    "name": "ipython",
    "version": 2
   },
   "file_extension": ".py",
   "mimetype": "text/x-python",
   "name": "python",
   "nbconvert_exporter": "python",
   "pygments_lexer": "ipython2",
   "version": "2.7.6"
  }
 },
 "nbformat": 4,
 "nbformat_minor": 0
}
