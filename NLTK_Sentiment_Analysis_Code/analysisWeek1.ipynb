{
 "cells": [
  {
   "cell_type": "code",
   "execution_count": 1,
   "metadata": {
    "collapsed": true,
    "ExecuteTime": {
     "start_time": "2023-04-25T15:04:58.698713Z",
     "end_time": "2023-04-25T15:04:59.152843Z"
    }
   },
   "outputs": [
    {
     "name": "stderr",
     "output_type": "stream",
     "text": [
      "[nltk_data] Downloading package vader_lexicon to\n",
      "[nltk_data]     C:\\Users\\Abdullah\\AppData\\Roaming\\nltk_data...\n",
      "[nltk_data]   Package vader_lexicon is already up-to-date!\n"
     ]
    }
   ],
   "source": [
    "import nltk\n",
    "nltk.download('vader_lexicon')\n",
    "from nltk.sentiment import SentimentIntensityAnalyzer\n"
   ]
  },
  {
   "cell_type": "code",
   "execution_count": 2,
   "outputs": [],
   "source": [
    "analyzer = SentimentIntensityAnalyzer()"
   ],
   "metadata": {
    "collapsed": false,
    "ExecuteTime": {
     "start_time": "2023-04-25T15:05:00.014467Z",
     "end_time": "2023-04-25T15:05:00.028318Z"
    }
   }
  },
  {
   "cell_type": "code",
   "execution_count": 3,
   "outputs": [],
   "source": [
    "# this is a test for the text analyzer\n",
    "text = \"I love this product, it's amazing!\"\n",
    "scores = analyzer.polarity_scores(text)\n"
   ],
   "metadata": {
    "collapsed": false,
    "ExecuteTime": {
     "start_time": "2023-04-25T15:05:00.203862Z",
     "end_time": "2023-04-25T15:05:00.207866Z"
    }
   }
  },
  {
   "cell_type": "code",
   "execution_count": 4,
   "outputs": [
    {
     "name": "stdout",
     "output_type": "stream",
     "text": [
      "{'neg': 0.0, 'neu': 0.266, 'pos': 0.734, 'compound': 0.8516}\n"
     ]
    }
   ],
   "source": [
    "print(scores)\n",
    "# Output: {'neg': 0.0, 'neu': 0.286, 'pos': 0.714, 'compound': 0.802}"
   ],
   "metadata": {
    "collapsed": false,
    "ExecuteTime": {
     "start_time": "2023-04-25T15:05:00.581966Z",
     "end_time": "2023-04-25T15:05:00.615057Z"
    }
   }
  },
  {
   "cell_type": "markdown",
   "source": [
    "In NLTK's SentimentIntensityAnalyzer, the polarity_scores() method returns a dictionary with four sentiment scores: neg, neu, pos, and compound.\n",
    "\n",
    "neg: represents the negative sentiment score, ranging from 0 to 1, where 0 means no negative sentiment and 1 means very negative sentiment.\n",
    "\n",
    "neu: represents the neutral sentiment score, ranging from 0 to 1, where 0 means no neutral sentiment and 1 means completely neutral sentiment.\n",
    "\n",
    "pos: represents the positive sentiment score, ranging from 0 to 1, where 0 means no positive sentiment and 1 means very positive sentiment.\n",
    "\n",
    "compound: represents an overall sentiment score, ranging from -1 to 1, where -1 means very negative sentiment, 0 means neutral sentiment, and 1 means very positive sentiment. The compound score is calculated by normalizing the scores of neg, neu, and pos using the following formula:\n",
    "\n",
    "compound = (pos - neg) / (pos + neu + neg)\n",
    "\n",
    "The compound score is often used as a single metric to represent the overall sentiment of a text."
   ],
   "metadata": {
    "collapsed": false
   }
  },
  {
   "cell_type": "markdown",
   "source": [
    "We have 16 students for Week 1 in our module, I will analyse their text according to sentiment, to conserve the privacy of the students, I will replace the students names with \"st1 to st16\", so, the first student will be st1, and his/her corresponding text will be st1txt."
   ],
   "metadata": {
    "collapsed": false
   }
  },
  {
   "cell_type": "code",
   "execution_count": 5,
   "outputs": [],
   "source": [
    "st1txt = \"In a disciplined society, ethical values, norms and principles are very important because these things create basic unwritten laws of a society. If there are no ethical values in society, it will be like a Jungle where people don't know how should they behave etc. A society becomes more beautiful where norms like respecting elders, loving kids, helping others are followed. If there are no norms, people who have power will be doing many immoral things that would be making a problem for others. People will be interfering each others life and making it difficult to live for everyone. There can be a lot of similar scenarios that can be stated to support the fact that ethical values, norms and principles are very important and should be taken seriously.\" \\\n",
    "         \"This chapter was informative and interesting. Although there was not much difficult stuff but still I got a lot to learn from it.\"\n"
   ],
   "metadata": {
    "collapsed": false,
    "ExecuteTime": {
     "start_time": "2023-04-21T10:42:33.408283Z",
     "end_time": "2023-04-21T10:42:33.457872Z"
    }
   }
  },
  {
   "cell_type": "code",
   "execution_count": 6,
   "outputs": [],
   "source": [
    "scores1 = analyzer.polarity_scores(st1txt)"
   ],
   "metadata": {
    "collapsed": false,
    "ExecuteTime": {
     "start_time": "2023-04-21T10:42:33.412297Z",
     "end_time": "2023-04-21T10:42:33.474085Z"
    }
   }
  },
  {
   "cell_type": "code",
   "execution_count": 7,
   "outputs": [
    {
     "name": "stdout",
     "output_type": "stream",
     "text": [
      "{'neg': 0.065, 'neu': 0.736, 'pos': 0.2, 'compound': 0.9436}\n"
     ]
    }
   ],
   "source": [
    "print(scores1)"
   ],
   "metadata": {
    "collapsed": false,
    "ExecuteTime": {
     "start_time": "2023-04-21T10:42:33.416855Z",
     "end_time": "2023-04-21T10:42:33.475086Z"
    }
   }
  },
  {
   "cell_type": "code",
   "execution_count": 64,
   "outputs": [],
   "source": [
    "st2txt = \"In my opinion, ethical values, norms and principles are incredibly important and make us humans. I see them as significant because not only they keep the society balanced and well functioning, but they also give every human being a sense of individuality and teach us the importance of being empathetic. They help us to co-exist together in harmony and intelligent and capable beings, we humans, have the moral responsibility to take care of the life around us, and by us, I don't just mean humans, I also mean, animals, plants, every living thing.\" \\\n",
    "         \"In my opinion, ethical values, norms and principles are incredibly important and make us humans. I see them as significant because not only they keep the society balanced and well functioning, but they also give every human being a sense of individuality and teach us the importance of being empathetic. They help us to co-exist together in harmony and intelligent and capable beings, we humans, have the moral responsibility to take care of the life around us, and by us, I don't just mean humans, I also mean, animals, plants, every living thing.\""
   ],
   "metadata": {
    "collapsed": false,
    "ExecuteTime": {
     "start_time": "2023-04-21T10:47:57.368598Z",
     "end_time": "2023-04-21T10:47:57.371659Z"
    }
   }
  },
  {
   "cell_type": "code",
   "execution_count": 65,
   "outputs": [],
   "source": [
    "scores2 =analyzer.polarity_scores(st2txt)"
   ],
   "metadata": {
    "collapsed": false,
    "ExecuteTime": {
     "start_time": "2023-04-21T10:47:57.722878Z",
     "end_time": "2023-04-21T10:47:57.726932Z"
    }
   }
  },
  {
   "cell_type": "code",
   "execution_count": 66,
   "outputs": [
    {
     "name": "stdout",
     "output_type": "stream",
     "text": [
      "{'neg': 0.089, 'neu': 0.628, 'pos': 0.283, 'compound': 0.9837}\n"
     ]
    }
   ],
   "source": [
    "print(scores2)"
   ],
   "metadata": {
    "collapsed": false,
    "ExecuteTime": {
     "start_time": "2023-04-21T10:47:58.139499Z",
     "end_time": "2023-04-21T10:47:58.143523Z"
    }
   }
  },
  {
   "cell_type": "code",
   "execution_count": 11,
   "outputs": [],
   "source": [
    "st3txt = \"It is through ethics & values that an individual is made aware that their choices have consequences, both for themselves and for others. Therefore, ethics and values build credibility, leadership skills, improve decision-making, and provide long-term benefits. Basic human needs can be satisfied through ethics and values.<br /> In research, it is important to adhere to ethical norms for several reasons. First, norms promote the aims of research, such as knowledge, truth, and avoidance of error. For example, prohibitions against fabricating, falsifying, or misrepresenting research data promote the truth and minimize error.\""
   ],
   "metadata": {
    "collapsed": false,
    "ExecuteTime": {
     "start_time": "2023-04-21T10:42:33.433812Z",
     "end_time": "2023-04-21T10:42:33.476086Z"
    }
   }
  },
  {
   "cell_type": "code",
   "execution_count": 12,
   "outputs": [],
   "source": [
    "scores3 = analyzer.polarity_scores(st3txt)"
   ],
   "metadata": {
    "collapsed": false,
    "ExecuteTime": {
     "start_time": "2023-04-21T10:42:33.436758Z",
     "end_time": "2023-04-21T10:42:33.476086Z"
    }
   }
  },
  {
   "cell_type": "code",
   "execution_count": 13,
   "outputs": [
    {
     "name": "stdout",
     "output_type": "stream",
     "text": [
      "{'neg': 0.071, 'neu': 0.677, 'pos': 0.252, 'compound': 0.9552}\n"
     ]
    }
   ],
   "source": [
    "print(scores3)"
   ],
   "metadata": {
    "collapsed": false,
    "ExecuteTime": {
     "start_time": "2023-04-21T10:42:33.442487Z",
     "end_time": "2023-04-21T10:42:33.476086Z"
    }
   }
  },
  {
   "cell_type": "code",
   "execution_count": 14,
   "outputs": [],
   "source": [
    "st4txt = \"A set of principles that guide the development and application of AI is known as artificial intelligence ethics. Humans have a cognitive bias in nature and we can find it in our behaviors. Since data is a basement of AI the bias inside of the data causes biased AI models and results. Considering the evolution speed of AI it is relatively easy to predict how biased algorithms can contribute to human bias in a negative way. Ethics and guidelines are essential tools to keep control of such systems. Many of those aspects can be mentioned to have ethical AI.<br /> 1. Respect for individuals. This principle covers protecting human privacy, and security. The collected and used data, and information should not be used to cause privacy and security issues for individuals. <br /> 2. Beneficence. The purpose should only be beneficial to society. AI should not be used to create new types of weapons or damage the environment. <br /> 3. Justice. It is very important to have unbiased, fair decisions regardless of gender, race, nationality, or other similar factors which mostly come from biased training data.\""
   ],
   "metadata": {
    "collapsed": false,
    "ExecuteTime": {
     "start_time": "2023-04-21T10:42:33.445037Z",
     "end_time": "2023-04-21T10:42:33.476086Z"
    }
   }
  },
  {
   "cell_type": "code",
   "execution_count": 15,
   "outputs": [],
   "source": [
    "scores4 = analyzer.polarity_scores(st4txt)"
   ],
   "metadata": {
    "collapsed": false,
    "ExecuteTime": {
     "start_time": "2023-04-21T10:42:33.450331Z",
     "end_time": "2023-04-21T10:42:33.476086Z"
    }
   }
  },
  {
   "cell_type": "code",
   "execution_count": 16,
   "outputs": [
    {
     "name": "stdout",
     "output_type": "stream",
     "text": [
      "{'neg': 0.099, 'neu': 0.745, 'pos': 0.156, 'compound': 0.9371}\n"
     ]
    }
   ],
   "source": [
    "print(scores4)"
   ],
   "metadata": {
    "collapsed": false,
    "ExecuteTime": {
     "start_time": "2023-04-21T10:42:33.455320Z",
     "end_time": "2023-04-21T10:42:33.476086Z"
    }
   }
  },
  {
   "cell_type": "code",
   "execution_count": 17,
   "outputs": [],
   "source": [
    "st5txt = \"I think that ethical values, norms and principles are incredibly important and indispensable in our society. Only through them can society exist. It is not important that everyone follows the same ethical values, norms and principles. I think it is important that a similar direction is taken. Only through discourse can existing ethical values, norms and principles develop further and thus also society.\"  \\\n",
    "         \"I found the tasks understandable and feasible. I had no difficulty in completing the tasks.\"\n"
   ],
   "metadata": {
    "collapsed": false,
    "ExecuteTime": {
     "start_time": "2023-04-21T10:42:33.457872Z",
     "end_time": "2023-04-21T10:42:33.476086Z"
    }
   }
  },
  {
   "cell_type": "code",
   "execution_count": 18,
   "outputs": [],
   "source": [
    "scores5 = analyzer.polarity_scores(st5txt)"
   ],
   "metadata": {
    "collapsed": false,
    "ExecuteTime": {
     "start_time": "2023-04-21T10:42:33.462641Z",
     "end_time": "2023-04-21T10:42:33.477088Z"
    }
   }
  },
  {
   "cell_type": "code",
   "execution_count": 19,
   "outputs": [
    {
     "name": "stdout",
     "output_type": "stream",
     "text": [
      "{'neg': 0.051, 'neu': 0.682, 'pos': 0.267, 'compound': 0.9564}\n"
     ]
    }
   ],
   "source": [
    "print(scores5)"
   ],
   "metadata": {
    "collapsed": false,
    "ExecuteTime": {
     "start_time": "2023-04-21T10:42:33.468135Z",
     "end_time": "2023-04-21T10:42:33.477088Z"
    }
   }
  },
  {
   "cell_type": "code",
   "execution_count": 20,
   "outputs": [],
   "source": [
    "st6txt =\"I am afraid the question is not clear. Do I view them as significant? Towards what end is the importance of these topics is supposed to be evaluated? In the following I will assume that the end is of shaping the future direction of AI research.<br /> <br /> <br /> Depending on what route we take to achieve AI, incorporating ethics in AI would have different levels of importance and different manners of incorporation. In the classical, black-box approach, we are trying to build AI without necessarily developing a conceptual understanding of intelligence. This route leads to the risk of accidentally creating a machine that behaves in unpredictably undesirable ways, therefore the need to discuss the ethical implications becomes necessary sooner. The issue with discussing ethics this soon, is that there is no formal way to talk about ethics and therefore there is no clear way to incorporate these concerns justifiably.<br /> <br /> The second route is to take a more axiomatic route to AGI. This approach, while in the short run doesn't talk to you like chat-GPT does, but provides a conceptual understanding of intelligence. The formal route then allows for humans to develop a framework where ethical concerns can be properly incorporated when need be. <br /> <br /> I personally prefer the latter approach and therefore dislike the current trend of talking about informal concepts such as ethics and pretending that we actually mean something when we say those words.\" \\\n",
    "        \"Usefulness: Not much in its current content.<br /> <br /> Clarity: Apart from the last question, it was quite clear.<br /> <br /> Difficulty: None.\""
   ],
   "metadata": {
    "collapsed": false,
    "ExecuteTime": {
     "start_time": "2023-04-21T10:42:33.470650Z",
     "end_time": "2023-04-21T10:42:33.477088Z"
    }
   }
  },
  {
   "cell_type": "code",
   "execution_count": 21,
   "outputs": [],
   "source": [
    "scores6 = analyzer.polarity_scores(st6txt)"
   ],
   "metadata": {
    "collapsed": false,
    "ExecuteTime": {
     "start_time": "2023-04-21T10:42:33.475086Z",
     "end_time": "2023-04-21T10:42:33.483565Z"
    }
   }
  },
  {
   "cell_type": "code",
   "execution_count": 22,
   "outputs": [
    {
     "name": "stdout",
     "output_type": "stream",
     "text": [
      "{'neg': 0.064, 'neu': 0.843, 'pos': 0.093, 'compound': 0.8582}\n"
     ]
    }
   ],
   "source": [
    "print(scores6)"
   ],
   "metadata": {
    "collapsed": false,
    "ExecuteTime": {
     "start_time": "2023-04-21T10:42:33.480406Z",
     "end_time": "2023-04-21T10:42:33.483565Z"
    }
   }
  },
  {
   "cell_type": "code",
   "execution_count": 23,
   "outputs": [],
   "source": [
    "st7txt = \"From which I understood, when we discussed the ethical issues, we cannot only focus on the specific values or norms or principles. We have to include all three into consideration so that the result or decision will be better. If we only focus on the Intrinsic and extrinsic values, we cannot come to the perfect conclusion as there is no consideration on the situation or environment which is happening there. Similarly, using norms we can only discussion about the not to discriminate problems. Also facts are the truth all people believes and happens in real life. But we human always think accordantly based on situations. So I think for the AI too we should make all into consideration when deciding the ethical issues of AI.\" \\\n",
    "         \"Usefulness: I learned about the terms clearly. (5)<br /> <br /> Clarity: Very clear explanation on terms.(5)<br /> <br /> Difficulty: Not that difficult. (2)\""
   ],
   "metadata": {
    "collapsed": false,
    "ExecuteTime": {
     "start_time": "2023-04-21T10:42:33.484567Z",
     "end_time": "2023-04-21T10:42:33.488544Z"
    }
   }
  },
  {
   "cell_type": "code",
   "execution_count": 24,
   "outputs": [],
   "source": [
    "scores7 = analyzer.polarity_scores(st7txt)"
   ],
   "metadata": {
    "collapsed": false,
    "ExecuteTime": {
     "start_time": "2023-04-21T10:42:33.487544Z",
     "end_time": "2023-04-21T10:42:33.565137Z"
    }
   }
  },
  {
   "cell_type": "code",
   "execution_count": 25,
   "outputs": [
    {
     "name": "stdout",
     "output_type": "stream",
     "text": [
      "{'neg': 0.028, 'neu': 0.785, 'pos': 0.187, 'compound': 0.9744}\n"
     ]
    }
   ],
   "source": [
    "print(scores7)"
   ],
   "metadata": {
    "collapsed": false,
    "ExecuteTime": {
     "start_time": "2023-04-21T10:42:33.492962Z",
     "end_time": "2023-04-21T10:42:33.585394Z"
    }
   }
  },
  {
   "cell_type": "code",
   "execution_count": 26,
   "outputs": [],
   "source": [
    "st8txt = \"Ethical values, norms, and principles are of great importance when it comes to the development and use of AI. They provide a framework for ensuring that AI systems are developed and used in a way that is consistent with human values and that promotes the common good.<br /> <br /> One of the most important reasons for the significance of these topics is that AI has the potential to have a significant impact on society, including on issues such as privacy, autonomy, and equality. Without a clear set of ethical values, norms, and principles to guide its development and use, AI systems could be developed and used in ways that are detrimental to society and to individuals.<br /> <br /> Furthermore, AI systems are becoming more autonomous and able to make decisions that have significant consequences. Without ethical values, norms, and principles to guide their decision-making, these systems could take actions that are harmful to individuals or to society as a whole.<br /> <br /> In addition, ethical values, norms, and principles also play a role in ensuring that the development and use of AI are inclusive, which is especially important in a world where AI is likely to have a significant impact on the economy and labor market. Ensuring that AI systems are developed and used in a way that is inclusive will help to mitigate the potential negative effects of AI on society and to ensure that the benefits of AI are shared widely.<br /> <br /> In conclusion, ethical values, norms and principles are of vital importance to ensure that AI is developed and used in a way that is consistent with human values and promotes the common good. They provide a framework for guiding the development and use of AI in a responsible manner, and for mitigating the potential negative effects of AI on society. They should be taken into account by all stakeholders involved in the development and use of AI.\" \\\n",
    "         \"I found it useful and clear, it took some time to review the reading. I would have preferred it would have been shorter, since some of this concepts we saw in the first session.\""
   ],
   "metadata": {
    "collapsed": false,
    "ExecuteTime": {
     "start_time": "2023-04-21T10:42:33.496732Z",
     "end_time": "2023-04-21T10:42:33.585394Z"
    }
   }
  },
  {
   "cell_type": "code",
   "execution_count": 27,
   "outputs": [],
   "source": [
    "scores8 = analyzer.polarity_scores(st8txt)"
   ],
   "metadata": {
    "collapsed": false,
    "ExecuteTime": {
     "start_time": "2023-04-21T10:42:33.502280Z",
     "end_time": "2023-04-21T10:42:33.585897Z"
    }
   }
  },
  {
   "cell_type": "code",
   "execution_count": 28,
   "outputs": [
    {
     "name": "stdout",
     "output_type": "stream",
     "text": [
      "{'neg': 0.029, 'neu': 0.745, 'pos': 0.226, 'compound': 0.9969}\n"
     ]
    }
   ],
   "source": [
    "print(scores8)"
   ],
   "metadata": {
    "collapsed": false,
    "ExecuteTime": {
     "start_time": "2023-04-21T10:42:33.510985Z",
     "end_time": "2023-04-21T10:42:33.585897Z"
    }
   }
  },
  {
   "cell_type": "code",
   "execution_count": 29,
   "outputs": [],
   "source": [
    "st9txt = \"Even so I support the idea of ethical values, norms and principles, I convinced that the issue is that the AI has to learn that from somewhere...<br /> With other words any Learning Algorithm is based on experience in the form of input data and with this the simplest law of learning applies: if you put shit in shit comes out. <br /> And while Humans have, based on emotions feelings and creativity, the ability to overcome the shit they learn an AI can not really do that. Therefore the idea of training an AI with ethical values is nice but I believe we don't own a single dataset that's free from discrimination...\""
   ],
   "metadata": {
    "collapsed": false,
    "ExecuteTime": {
     "start_time": "2023-04-21T10:42:33.513494Z",
     "end_time": "2023-04-21T10:42:33.585897Z"
    }
   }
  },
  {
   "cell_type": "code",
   "execution_count": 30,
   "outputs": [],
   "source": [
    "scores9 = analyzer.polarity_scores(st9txt)"
   ],
   "metadata": {
    "collapsed": false,
    "ExecuteTime": {
     "start_time": "2023-04-21T10:42:33.517406Z",
     "end_time": "2023-04-21T10:42:33.585897Z"
    }
   }
  },
  {
   "cell_type": "code",
   "execution_count": 31,
   "outputs": [
    {
     "name": "stdout",
     "output_type": "stream",
     "text": [
      "{'neg': 0.055, 'neu': 0.771, 'pos': 0.174, 'compound': 0.8944}\n"
     ]
    }
   ],
   "source": [
    "print(scores9)"
   ],
   "metadata": {
    "collapsed": false,
    "ExecuteTime": {
     "start_time": "2023-04-21T10:42:33.521444Z",
     "end_time": "2023-04-21T10:42:33.585897Z"
    }
   }
  },
  {
   "cell_type": "code",
   "execution_count": 32,
   "outputs": [],
   "source": [
    "st10txt = \"Yes they are significant for developing an ideal AI system. Ethical values can help in putting a weightage on various norms and principles that can help in developing a fairer and transparent AI with reduced biases.\" \\\n",
    "          \"The chapter was good for basic theoretical understanding but definitions seem a bit vague, could be better explained with more concrete examples. The chapter was quite easy to follow.\""
   ],
   "metadata": {
    "collapsed": false,
    "ExecuteTime": {
     "start_time": "2023-04-21T10:42:33.524943Z",
     "end_time": "2023-04-21T10:42:33.585897Z"
    }
   }
  },
  {
   "cell_type": "code",
   "execution_count": 33,
   "outputs": [],
   "source": [
    "scores10 = analyzer.polarity_scores(st10txt)"
   ],
   "metadata": {
    "collapsed": false,
    "ExecuteTime": {
     "start_time": "2023-04-21T10:42:33.529607Z",
     "end_time": "2023-04-21T10:42:33.585897Z"
    }
   }
  },
  {
   "cell_type": "code",
   "execution_count": 34,
   "outputs": [
    {
     "name": "stdout",
     "output_type": "stream",
     "text": [
      "{'neg': 0.021, 'neu': 0.668, 'pos': 0.311, 'compound': 0.9561}\n"
     ]
    }
   ],
   "source": [
    "print(scores10)"
   ],
   "metadata": {
    "collapsed": false,
    "ExecuteTime": {
     "start_time": "2023-04-21T10:42:33.534885Z",
     "end_time": "2023-04-21T10:42:33.586903Z"
    }
   }
  },
  {
   "cell_type": "code",
   "execution_count": 35,
   "outputs": [],
   "source": [
    "st11txt = \"Values, norms & principles are very important. If AI did not adhere to any form of guidelines of this kind, it would eventually be disastrous. Even if the rules to construct AI-models are strict and scientific, their use and even their behaviour is not as strict. Both the results put out by the models and the environment are dynamic, ever-changing, almost volatile. Often enough, models built for recognizing/classification are not perfectly aligned with the real world, and depending on usage, this could be a major danger for people. <br /> Here norms, values and ethics come into play. Even though there exists the danger of people, governments or corporations putting values into AI that only benefit themselves, it is also a chance for giving values like equality, progress, respect for life etc. into AI, potentially making it a powerful tool in changingg the world for the better for everyone .\" \\\n",
    "          \"It was nice and short, even though a little bit hidden, it was not clear that there were excercises after the reading of the chapters\""
   ],
   "metadata": {
    "collapsed": false,
    "ExecuteTime": {
     "start_time": "2023-04-21T10:42:33.537786Z",
     "end_time": "2023-04-21T10:42:33.586903Z"
    }
   }
  },
  {
   "cell_type": "code",
   "execution_count": 36,
   "outputs": [],
   "source": [
    "scores11 = analyzer.polarity_scores(st11txt)"
   ],
   "metadata": {
    "collapsed": false,
    "ExecuteTime": {
     "start_time": "2023-04-21T10:42:33.542126Z",
     "end_time": "2023-04-21T10:42:33.586903Z"
    }
   }
  },
  {
   "cell_type": "code",
   "execution_count": 37,
   "outputs": [
    {
     "name": "stdout",
     "output_type": "stream",
     "text": [
      "{'neg': 0.078, 'neu': 0.702, 'pos': 0.221, 'compound': 0.9775}\n"
     ]
    }
   ],
   "source": [
    "print(scores11)"
   ],
   "metadata": {
    "collapsed": false,
    "ExecuteTime": {
     "start_time": "2023-04-21T10:42:33.546977Z",
     "end_time": "2023-04-21T10:42:33.587903Z"
    }
   }
  },
  {
   "cell_type": "code",
   "execution_count": 38,
   "outputs": [],
   "source": [
    "st12txt = \"Values, Norms, and Principal all are fundamental elements of ethics. Value means giving significant emphasis on a particular thing or an action. Values offer ideals and benchmarks by which to judge things, options, deeds, and events. Moral principles are the main emphasis of ethics, while other principles such as economic, artistic, and epistemic values are also discussed. Values can be divided into two parts extrinsic and intrinsic values. For instance, Money has extrinsic values. The reason is anyone can achieve something in exchange for money. For example, anyone can get better medical treatment for good health or better quality of life at cost of money. On the other hand, Intrinsic values have big moral values such as (freedom, happiness, and well-being). Norms are the set of Artificial Intelligence guidelines such as (value-based principles, commands, and imperatives). It implies what one should do or expectations of someone. Norms are classified by prescriptive (encouraging) and proscriptive (discouraging) behavior. There are a couple of norms for example, Statistical Regularities – IT guys tend to wear headphones during coding, Social Norms, Moral Norms – behavioral, and most importantly legal norms. Given the below five principles for AI ethics that focus on different values. <br /> • The principle of beneficence or non-maleficence – Use AI for good that doesn’t make any harm<br /> • The principle of accountability – Who is the responsible person to take care of when AI causes harm<br /> • The principle of Transparency - Need to understand what, and why AI does something<br /> • The principle of fairness – AI should be non-discriminative<br /> • The principle of respecting basic human rights – AI should respect and promote Human Rights.\" \\\n",
    "          \"The chapter is based on Ethical AI which is fundamental to Humans in the Age of Artificial Intelligence. It describes a couple of rules which is required to maintain during the development of an AI system. The Values, Norms, and Principles play vital roles to maintain security, privacy, freedom, and indiscrimination which are useful for developing smart systems.\""
   ],
   "metadata": {
    "collapsed": false,
    "ExecuteTime": {
     "start_time": "2023-04-21T10:42:33.553530Z",
     "end_time": "2023-04-21T10:42:33.587903Z"
    }
   }
  },
  {
   "cell_type": "code",
   "execution_count": 39,
   "outputs": [],
   "source": [
    "scores12 = analyzer.polarity_scores(st12txt)"
   ],
   "metadata": {
    "collapsed": false,
    "ExecuteTime": {
     "start_time": "2023-04-21T10:42:33.555703Z",
     "end_time": "2023-04-21T10:42:33.587903Z"
    }
   }
  },
  {
   "cell_type": "code",
   "execution_count": 40,
   "outputs": [
    {
     "name": "stdout",
     "output_type": "stream",
     "text": [
      "{'neg': 0.0, 'neu': 0.737, 'pos': 0.263, 'compound': 0.9983}\n"
     ]
    }
   ],
   "source": [
    "print(scores12)"
   ],
   "metadata": {
    "collapsed": false,
    "ExecuteTime": {
     "start_time": "2023-04-21T10:42:33.561624Z",
     "end_time": "2023-04-21T10:42:33.587903Z"
    }
   }
  },
  {
   "cell_type": "code",
   "execution_count": 41,
   "outputs": [],
   "source": [
    "st13txt = \"Ethical values are essential, for example in the case of Self-Driving vehicles. <br /> 1. What will happen to driving professions after the introduction of self-driving vehicles?<br /> 2. What will happen if dark-skinned pedestrians are not that effectively detected by the camera or visual perception of car due to less dark-skinned data during the training of the model?<br /> 3. what would happen, if richer people get priorities to drive through in an autonomous road management system?<br /> <br /> these are some of the many ethical issues, which are still to be answered.\" \\\n",
    "          \"This gave a nice overview of <br /> 1. Ethicals issues<br /> 2. Terms used in AI <br /> 3. Approaches in AI <br /> 4. And gave the idea about the further course of this paper.\""
   ],
   "metadata": {
    "collapsed": false,
    "ExecuteTime": {
     "start_time": "2023-04-21T10:42:33.566138Z",
     "end_time": "2023-04-21T10:42:33.587903Z"
    }
   }
  },
  {
   "cell_type": "code",
   "execution_count": 42,
   "outputs": [],
   "source": [
    "scores13 = analyzer.polarity_scores(st13txt)"
   ],
   "metadata": {
    "collapsed": false,
    "ExecuteTime": {
     "start_time": "2023-04-21T10:42:33.569615Z",
     "end_time": "2023-04-21T10:42:33.587903Z"
    }
   }
  },
  {
   "cell_type": "code",
   "execution_count": 43,
   "outputs": [
    {
     "name": "stdout",
     "output_type": "stream",
     "text": [
      "{'neg': 0.017, 'neu': 0.871, 'pos': 0.113, 'compound': 0.9278}\n"
     ]
    }
   ],
   "source": [
    "print(scores13)"
   ],
   "metadata": {
    "collapsed": false,
    "ExecuteTime": {
     "start_time": "2023-04-21T10:42:33.574546Z",
     "end_time": "2023-04-21T10:42:33.587903Z"
    }
   }
  },
  {
   "cell_type": "code",
   "execution_count": 44,
   "outputs": [],
   "source": [
    "st14txt = \"I would argue that ethical values, norms and principles are significant.<br /> We live together in a society, and I would say that most people want to live together in peace with each other. Probably no two persons have the same distribution of values, but as a society, we have some convergent values a lot of people have in common. If we had a lot of people with very different distributions of value, in the sense of contradicting values, we could not live as peacefully as do now. But the norms aligned to those values may be very different, that's at least how I would explain a lot of the conflict in the World. <br /> In short, Norms are guided by values, we can have the same values but have different ways to achieve them. <br /> Principles are one step further than values and norms, they are a collection of values and norms of a group of people, intended to be a guide. They reflect the norms and values of a large group of people and not anymore of a single individuum.\" \\\n",
    "          \"The essay part could be more clear, in what direction it should go. Not sure if we should go into AI ethic already or not (for example).\""
   ],
   "metadata": {
    "collapsed": false,
    "ExecuteTime": {
     "start_time": "2023-04-21T10:42:33.577250Z",
     "end_time": "2023-04-21T10:42:33.587903Z"
    }
   }
  },
  {
   "cell_type": "code",
   "execution_count": 45,
   "outputs": [],
   "source": [
    "scores14 = analyzer.polarity_scores(st14txt)"
   ],
   "metadata": {
    "collapsed": false,
    "ExecuteTime": {
     "start_time": "2023-04-21T10:42:33.581476Z",
     "end_time": "2023-04-21T10:42:33.589407Z"
    }
   }
  },
  {
   "cell_type": "code",
   "execution_count": 46,
   "outputs": [
    {
     "name": "stdout",
     "output_type": "stream",
     "text": [
      "{'neg': 0.065, 'neu': 0.746, 'pos': 0.189, 'compound': 0.9825}\n"
     ]
    }
   ],
   "source": [
    "print(scores14)"
   ],
   "metadata": {
    "collapsed": false,
    "ExecuteTime": {
     "start_time": "2023-04-21T10:42:33.587903Z",
     "end_time": "2023-04-21T10:42:33.607285Z"
    }
   }
  },
  {
   "cell_type": "code",
   "execution_count": 47,
   "outputs": [],
   "source": [
    "st15txt = \"Ethical values, norms and principles are fundamental to society to prevent chaos. Without these, there would be no guide and control over society. This will lead to many malicious activities since there is no rule or principle. <br /> Ethical norms ensure a standard way of behaviour which is acceptable. This is important because humans have been known to be very irrational and without these norms, there would be absolute chaos.<br /> Our values help us in our decision-making process. This is very important since a lot of times these decisions may not just affect the maker but also other individuals in society.<br /> Principles help us draw lines we try not to cross. This will make us accountable to ourselves in upholding our values.\" \\\n",
    "          \"This chapter helps to appreciate the difficulty in setting priorities for the different norms of society especially having to select just five of them. This is also interesting to think about, especially in the field of AI where virtually every part of our lives will be affected and how would this be controlled\""
   ],
   "metadata": {
    "collapsed": false,
    "ExecuteTime": {
     "start_time": "2023-04-21T10:42:33.590918Z",
     "end_time": "2023-04-21T10:42:33.607285Z"
    }
   }
  },
  {
   "cell_type": "code",
   "execution_count": 48,
   "outputs": [],
   "source": [
    "scores15 = analyzer.polarity_scores(st15txt)"
   ],
   "metadata": {
    "collapsed": false,
    "ExecuteTime": {
     "start_time": "2023-04-21T10:42:33.594983Z",
     "end_time": "2023-04-21T10:42:33.704794Z"
    }
   }
  },
  {
   "cell_type": "code",
   "execution_count": 49,
   "outputs": [
    {
     "name": "stdout",
     "output_type": "stream",
     "text": [
      "{'neg': 0.062, 'neu': 0.78, 'pos': 0.157, 'compound': 0.9413}\n"
     ]
    }
   ],
   "source": [
    "print(scores15)"
   ],
   "metadata": {
    "collapsed": false,
    "ExecuteTime": {
     "start_time": "2023-04-21T10:42:33.601506Z",
     "end_time": "2023-04-21T10:42:33.711310Z"
    }
   }
  },
  {
   "cell_type": "code",
   "execution_count": 50,
   "outputs": [],
   "source": [
    "st16txt = \"I think ethical values, norms and principles are extremely important for living together as humanity. Nobody should be discriminated by others based on their style of living or simply based on attributes like gender, color of their skin, etc. I am convinced, if we would care more about others and less about ourselves, we would live in a much more peaceful and fair world.\" \\\n",
    "          \"Overall easy and fast to read, ILIAS just shows me an error message which worries me a bit\""
   ],
   "metadata": {
    "collapsed": false,
    "ExecuteTime": {
     "start_time": "2023-04-21T10:42:33.603885Z",
     "end_time": "2023-04-21T10:42:33.711310Z"
    }
   }
  },
  {
   "cell_type": "code",
   "execution_count": 51,
   "outputs": [],
   "source": [
    "scores16 = analyzer.polarity_scores(st16txt)"
   ],
   "metadata": {
    "collapsed": false,
    "ExecuteTime": {
     "start_time": "2023-04-21T10:42:33.607285Z",
     "end_time": "2023-04-21T10:42:33.712312Z"
    }
   }
  },
  {
   "cell_type": "code",
   "execution_count": 52,
   "outputs": [
    {
     "name": "stdout",
     "output_type": "stream",
     "text": [
      "{'neg': 0.057, 'neu': 0.681, 'pos': 0.263, 'compound': 0.9581}\n"
     ]
    }
   ],
   "source": [
    "print(scores16)"
   ],
   "metadata": {
    "collapsed": false,
    "ExecuteTime": {
     "start_time": "2023-04-21T10:42:33.612401Z",
     "end_time": "2023-04-21T10:42:33.712312Z"
    }
   }
  },
  {
   "cell_type": "code",
   "execution_count": 53,
   "outputs": [
    {
     "name": "stdout",
     "output_type": "stream",
     "text": [
      "0.97035\n"
     ]
    }
   ],
   "source": [
    "# using numpy, extracting the compound value from each score dictionary value, and then averaging it.\n",
    "# this is for 2 values only, ill make another cell to loop over all the values and average.\n",
    "import numpy as np\n",
    "\n",
    "scores1\n",
    "scores2\n",
    "\n",
    "# extract keys\n",
    "\n",
    "key = 'compound'\n",
    "v1 = [scores1[key]] if key in scores1 else []\n",
    "v2 = [scores2[key]] if key in scores2 else []\n",
    "\n",
    "# combine\n",
    "\n",
    "allValues = v1 + v2\n",
    "\n",
    "# calc avg\n",
    "\n",
    "avg = np.mean(allValues)\n",
    "\n",
    "print (avg)"
   ],
   "metadata": {
    "collapsed": false,
    "ExecuteTime": {
     "start_time": "2023-04-21T10:42:33.616198Z",
     "end_time": "2023-04-21T10:42:33.712312Z"
    }
   }
  },
  {
   "cell_type": "code",
   "execution_count": 54,
   "outputs": [
    {
     "name": "stdout",
     "output_type": "stream",
     "text": [
      "0.95343125\n"
     ]
    }
   ],
   "source": [
    "# create a list of dictionaries to add\n",
    "scores_list = [scores1, scores2, scores3, scores4, scores5, scores6, scores7, scores8,\n",
    "               scores9, scores10, scores11, scores12, scores13, scores14, scores15, scores16]\n",
    "\n",
    "# specify the key i need, in this case, compound\n",
    "key = 'compound'\n",
    "\n",
    "# create a list to store the values of each key that i will extract from each dict\n",
    "values_list = []\n",
    "\n",
    "# loop over the list of dictionaries and extract the values for the specific key\n",
    "for d in scores_list:\n",
    "    if key in d:\n",
    "        values_list.append(d[key])\n",
    "\n",
    "# calculate the average of the values:\n",
    "average = np.mean(values_list)\n",
    "\n",
    "print(average)"
   ],
   "metadata": {
    "collapsed": false,
    "ExecuteTime": {
     "start_time": "2023-04-21T10:42:33.620706Z",
     "end_time": "2023-04-21T10:42:33.712312Z"
    }
   }
  },
  {
   "cell_type": "markdown",
   "source": [
    "# Week 1/ Chapter 1 scores are:\n",
    "\n",
    "### The average score for week one sentiment analysis is 0.95 (1 being the most positive, 0 neutral, and -1 being negative)"
   ],
   "metadata": {
    "collapsed": false
   }
  },
  {
   "cell_type": "code",
   "execution_count": 54,
   "outputs": [],
   "source": [],
   "metadata": {
    "collapsed": false,
    "ExecuteTime": {
     "start_time": "2023-04-21T10:42:33.624647Z",
     "end_time": "2023-04-21T10:42:33.712312Z"
    }
   }
  }
 ],
 "metadata": {
  "kernelspec": {
   "name": "txt",
   "language": "python",
   "display_name": "Python 3.11 (txt)"
  },
  "language_info": {
   "codemirror_mode": {
    "name": "ipython",
    "version": 2
   },
   "file_extension": ".py",
   "mimetype": "text/x-python",
   "name": "python",
   "nbconvert_exporter": "python",
   "pygments_lexer": "ipython2",
   "version": "2.7.6"
  }
 },
 "nbformat": 4,
 "nbformat_minor": 0
}
