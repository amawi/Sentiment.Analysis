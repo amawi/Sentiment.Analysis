{
 "cells": [
  {
   "cell_type": "code",
   "execution_count": 1,
   "metadata": {
    "collapsed": true,
    "ExecuteTime": {
     "start_time": "2023-04-22T13:56:02.483777Z",
     "end_time": "2023-04-22T13:56:03.439648Z"
    }
   },
   "outputs": [
    {
     "name": "stderr",
     "output_type": "stream",
     "text": [
      "[nltk_data] Downloading package vader_lexicon to\n",
      "[nltk_data]     C:\\Users\\Abdullah\\AppData\\Roaming\\nltk_data...\n",
      "[nltk_data]   Package vader_lexicon is already up-to-date!\n"
     ]
    }
   ],
   "source": [
    "import nltk\n",
    "nltk.download('vader_lexicon')\n",
    "from nltk.sentiment import SentimentIntensityAnalyzer\n",
    "\n",
    "import numpy as np"
   ]
  },
  {
   "cell_type": "code",
   "execution_count": 2,
   "outputs": [],
   "source": [
    "analyzer = SentimentIntensityAnalyzer()\n"
   ],
   "metadata": {
    "collapsed": false,
    "ExecuteTime": {
     "start_time": "2023-04-22T13:56:03.439648Z",
     "end_time": "2023-04-22T13:56:03.448848Z"
    }
   }
  },
  {
   "cell_type": "markdown",
   "source": [
    "## We start the analysis for each student"
   ],
   "metadata": {
    "collapsed": false
   }
  },
  {
   "cell_type": "markdown",
   "source": [
    "## Student 1"
   ],
   "metadata": {
    "collapsed": false
   }
  },
  {
   "cell_type": "code",
   "execution_count": 3,
   "outputs": [],
   "source": [
    "st1txt = \"It was more about intuition\""
   ],
   "metadata": {
    "collapsed": false,
    "ExecuteTime": {
     "start_time": "2023-04-22T13:56:59.202246Z",
     "end_time": "2023-04-22T13:56:59.204751Z"
    }
   }
  },
  {
   "cell_type": "code",
   "execution_count": 4,
   "outputs": [],
   "source": [
    "scores1 = analyzer.polarity_scores(st1txt)"
   ],
   "metadata": {
    "collapsed": false,
    "ExecuteTime": {
     "start_time": "2023-04-22T13:56:59.741228Z",
     "end_time": "2023-04-22T13:56:59.745063Z"
    }
   }
  },
  {
   "cell_type": "code",
   "execution_count": 5,
   "outputs": [
    {
     "name": "stdout",
     "output_type": "stream",
     "text": [
      "{'neg': 0.0, 'neu': 1.0, 'pos': 0.0, 'compound': 0.0}\n"
     ]
    }
   ],
   "source": [
    "print(scores1)"
   ],
   "metadata": {
    "collapsed": false,
    "ExecuteTime": {
     "start_time": "2023-04-22T13:57:00.118031Z",
     "end_time": "2023-04-22T13:57:00.122472Z"
    }
   }
  },
  {
   "cell_type": "markdown",
   "source": [
    "## Student 2"
   ],
   "metadata": {
    "collapsed": false
   }
  },
  {
   "cell_type": "code",
   "execution_count": 6,
   "outputs": [],
   "source": [
    "st2txt = \"NAN\""
   ],
   "metadata": {
    "collapsed": false,
    "ExecuteTime": {
     "start_time": "2023-04-22T13:57:07.144413Z",
     "end_time": "2023-04-22T13:57:07.146919Z"
    }
   }
  },
  {
   "cell_type": "code",
   "execution_count": 7,
   "outputs": [],
   "source": [
    "scores2 = analyzer.polarity_scores(st2txt)"
   ],
   "metadata": {
    "collapsed": false,
    "ExecuteTime": {
     "start_time": "2023-04-22T13:57:08.420603Z",
     "end_time": "2023-04-22T13:57:08.423835Z"
    }
   }
  },
  {
   "cell_type": "code",
   "execution_count": 8,
   "outputs": [
    {
     "name": "stdout",
     "output_type": "stream",
     "text": [
      "{'neg': 0.0, 'neu': 1.0, 'pos': 0.0, 'compound': 0.0}\n"
     ]
    }
   ],
   "source": [
    "print(scores2)"
   ],
   "metadata": {
    "collapsed": false,
    "ExecuteTime": {
     "start_time": "2023-04-22T13:57:08.788666Z",
     "end_time": "2023-04-22T13:57:08.796939Z"
    }
   }
  },
  {
   "cell_type": "markdown",
   "source": [
    "## Student 3"
   ],
   "metadata": {
    "collapsed": false
   }
  },
  {
   "cell_type": "code",
   "execution_count": 9,
   "outputs": [],
   "source": [
    "st3txt = \"To understand the concept of Transparency this chapter was quite clear and useful the concept of diversity was very interesting.\""
   ],
   "metadata": {
    "collapsed": false,
    "ExecuteTime": {
     "start_time": "2023-04-22T13:57:27.680897Z",
     "end_time": "2023-04-22T13:57:27.683403Z"
    }
   }
  },
  {
   "cell_type": "code",
   "execution_count": 10,
   "outputs": [],
   "source": [
    "scores3 = analyzer.polarity_scores(st3txt)"
   ],
   "metadata": {
    "collapsed": false,
    "ExecuteTime": {
     "start_time": "2023-04-22T13:57:28.021257Z",
     "end_time": "2023-04-22T13:57:28.023764Z"
    }
   }
  },
  {
   "cell_type": "code",
   "execution_count": 11,
   "outputs": [
    {
     "name": "stdout",
     "output_type": "stream",
     "text": [
      "{'neg': 0.0, 'neu': 0.653, 'pos': 0.347, 'compound': 0.8422}\n"
     ]
    }
   ],
   "source": [
    "print(scores3)"
   ],
   "metadata": {
    "collapsed": false,
    "ExecuteTime": {
     "start_time": "2023-04-22T13:57:28.405013Z",
     "end_time": "2023-04-22T13:57:28.413390Z"
    }
   }
  },
  {
   "cell_type": "markdown",
   "source": [
    "## Student 4"
   ],
   "metadata": {
    "collapsed": false
   }
  },
  {
   "cell_type": "code",
   "execution_count": 12,
   "outputs": [],
   "source": [
    "st4txt = \"The difficulty was below average, and the chapter covers an interesting aspect of AI. Transparency is a challenging topic, especially nowadays when people are more aware of their privacy and security rightfully. On the other hand, there is a trade-off between transparency and functionality which makes the situation more difficult.\""
   ],
   "metadata": {
    "collapsed": false,
    "ExecuteTime": {
     "start_time": "2023-04-22T13:57:37.398247Z",
     "end_time": "2023-04-22T13:57:37.400753Z"
    }
   }
  },
  {
   "cell_type": "code",
   "execution_count": 13,
   "outputs": [],
   "source": [
    "scores4 = analyzer.polarity_scores(st4txt)"
   ],
   "metadata": {
    "collapsed": false,
    "ExecuteTime": {
     "start_time": "2023-04-22T13:57:37.773449Z",
     "end_time": "2023-04-22T13:57:37.775956Z"
    }
   }
  },
  {
   "cell_type": "code",
   "execution_count": 14,
   "outputs": [
    {
     "name": "stdout",
     "output_type": "stream",
     "text": [
      "{'neg': 0.091, 'neu': 0.736, 'pos': 0.173, 'compound': 0.5729}\n"
     ]
    }
   ],
   "source": [
    "print(scores4)"
   ],
   "metadata": {
    "collapsed": false,
    "ExecuteTime": {
     "start_time": "2023-04-22T13:57:38.212660Z",
     "end_time": "2023-04-22T13:57:38.225742Z"
    }
   }
  },
  {
   "cell_type": "markdown",
   "source": [
    "## Student 5"
   ],
   "metadata": {
    "collapsed": false
   }
  },
  {
   "cell_type": "code",
   "execution_count": 15,
   "outputs": [],
   "source": [
    "st5txt = \"The questions were clear and understandable. However, i had some difficulties understanding the visualisations. A brief explanation of what the algorithm actually does would have been helpful.\""
   ],
   "metadata": {
    "collapsed": false,
    "ExecuteTime": {
     "start_time": "2023-04-22T13:57:50.239606Z",
     "end_time": "2023-04-22T13:57:50.242113Z"
    }
   }
  },
  {
   "cell_type": "code",
   "execution_count": 16,
   "outputs": [],
   "source": [
    "scores5 = analyzer.polarity_scores(st5txt)"
   ],
   "metadata": {
    "collapsed": false,
    "ExecuteTime": {
     "start_time": "2023-04-22T13:57:50.708565Z",
     "end_time": "2023-04-22T13:57:50.711084Z"
    }
   }
  },
  {
   "cell_type": "code",
   "execution_count": 17,
   "outputs": [
    {
     "name": "stdout",
     "output_type": "stream",
     "text": [
      "{'neg': 0.074, 'neu': 0.743, 'pos': 0.182, 'compound': 0.4939}\n"
     ]
    }
   ],
   "source": [
    "print(scores5)"
   ],
   "metadata": {
    "collapsed": false,
    "ExecuteTime": {
     "start_time": "2023-04-22T13:57:51.066966Z",
     "end_time": "2023-04-22T13:57:51.077355Z"
    }
   }
  },
  {
   "cell_type": "markdown",
   "source": [
    "## Student 6"
   ],
   "metadata": {
    "collapsed": false
   }
  },
  {
   "cell_type": "code",
   "execution_count": 18,
   "outputs": [],
   "source": [
    "st6txt = \"This was probably the best chapter (so far) in terms of precision of questions.\""
   ],
   "metadata": {
    "collapsed": false,
    "ExecuteTime": {
     "start_time": "2023-04-22T13:58:02.077327Z",
     "end_time": "2023-04-22T13:58:02.079833Z"
    }
   }
  },
  {
   "cell_type": "code",
   "execution_count": 19,
   "outputs": [],
   "source": [
    "scores6 = analyzer.polarity_scores(st6txt)"
   ],
   "metadata": {
    "collapsed": false,
    "ExecuteTime": {
     "start_time": "2023-04-22T13:58:02.460243Z",
     "end_time": "2023-04-22T13:58:02.464551Z"
    }
   }
  },
  {
   "cell_type": "code",
   "execution_count": 20,
   "outputs": [
    {
     "name": "stdout",
     "output_type": "stream",
     "text": [
      "{'neg': 0.0, 'neu': 0.756, 'pos': 0.244, 'compound': 0.6369}\n"
     ]
    }
   ],
   "source": [
    "print(scores6)"
   ],
   "metadata": {
    "collapsed": false,
    "ExecuteTime": {
     "start_time": "2023-04-22T13:58:02.796527Z",
     "end_time": "2023-04-22T13:58:02.805092Z"
    }
   }
  },
  {
   "cell_type": "markdown",
   "source": [
    "## Student 7"
   ],
   "metadata": {
    "collapsed": false
   }
  },
  {
   "cell_type": "code",
   "execution_count": 21,
   "outputs": [],
   "source": [
    "st7txt = \"I think the exercise and the chapter loose some connection. But this chapter is easy.\""
   ],
   "metadata": {
    "collapsed": false,
    "ExecuteTime": {
     "start_time": "2023-04-22T14:06:06.409521Z",
     "end_time": "2023-04-22T14:06:06.412027Z"
    }
   }
  },
  {
   "cell_type": "code",
   "execution_count": 22,
   "outputs": [],
   "source": [
    "scores7 = analyzer.polarity_scores(st7txt)"
   ],
   "metadata": {
    "collapsed": false,
    "ExecuteTime": {
     "start_time": "2023-04-22T14:06:06.752883Z",
     "end_time": "2023-04-22T14:06:06.755389Z"
    }
   }
  },
  {
   "cell_type": "code",
   "execution_count": 23,
   "outputs": [
    {
     "name": "stdout",
     "output_type": "stream",
     "text": [
      "{'neg': 0.094, 'neu': 0.686, 'pos': 0.22, 'compound': 0.4939}\n"
     ]
    }
   ],
   "source": [
    "print(scores7)"
   ],
   "metadata": {
    "collapsed": false,
    "ExecuteTime": {
     "start_time": "2023-04-22T14:06:07.105006Z",
     "end_time": "2023-04-22T14:06:07.112517Z"
    }
   }
  },
  {
   "cell_type": "markdown",
   "source": [
    "## Student 8"
   ],
   "metadata": {
    "collapsed": false
   }
  },
  {
   "cell_type": "code",
   "execution_count": 24,
   "outputs": [],
   "source": [
    "st8txt = \"This chapter was concise and to the point, which made it a refreshing change from the longer chapters in the previous e-course. Although it was shorter in length, it provided a practical learning experience by focusing on a single topic and allowing for a deeper exploration of that subject. The simplicity of the chapter made it easy to understand, and if the balance between easy and challenging chapters is maintained, I think this will greatly enhance the overall learning experience.\""
   ],
   "metadata": {
    "collapsed": false,
    "ExecuteTime": {
     "start_time": "2023-04-22T14:06:18.834088Z",
     "end_time": "2023-04-22T14:06:18.836593Z"
    }
   }
  },
  {
   "cell_type": "code",
   "execution_count": 25,
   "outputs": [],
   "source": [
    "scores8 = analyzer.polarity_scores(st8txt)"
   ],
   "metadata": {
    "collapsed": false,
    "ExecuteTime": {
     "start_time": "2023-04-22T14:06:19.070379Z",
     "end_time": "2023-04-22T14:06:19.073859Z"
    }
   }
  },
  {
   "cell_type": "code",
   "execution_count": 26,
   "outputs": [
    {
     "name": "stdout",
     "output_type": "stream",
     "text": [
      "{'neg': 0.0, 'neu': 0.884, 'pos': 0.116, 'compound': 0.8074}\n"
     ]
    }
   ],
   "source": [
    "print(scores8)"
   ],
   "metadata": {
    "collapsed": false,
    "ExecuteTime": {
     "start_time": "2023-04-22T14:06:19.679298Z",
     "end_time": "2023-04-22T14:06:19.687897Z"
    }
   }
  },
  {
   "cell_type": "markdown",
   "source": [
    "## Student 9"
   ],
   "metadata": {
    "collapsed": false
   }
  },
  {
   "cell_type": "code",
   "execution_count": 44,
   "outputs": [],
   "source": [
    "st9txt = \"I fund this chapter clear and useful\""
   ],
   "metadata": {
    "collapsed": false,
    "ExecuteTime": {
     "start_time": "2023-04-22T14:12:37.795114Z",
     "end_time": "2023-04-22T14:12:37.808640Z"
    }
   }
  },
  {
   "cell_type": "code",
   "execution_count": 45,
   "outputs": [],
   "source": [
    "scores9 = analyzer.polarity_scores(st9txt)"
   ],
   "metadata": {
    "collapsed": false,
    "ExecuteTime": {
     "start_time": "2023-04-22T14:12:38.823806Z",
     "end_time": "2023-04-22T14:12:38.830316Z"
    }
   }
  },
  {
   "cell_type": "code",
   "execution_count": 46,
   "outputs": [
    {
     "name": "stdout",
     "output_type": "stream",
     "text": [
      "{'neg': 0.0, 'neu': 0.421, 'pos': 0.579, 'compound': 0.6705}\n"
     ]
    }
   ],
   "source": [
    "print(scores9)"
   ],
   "metadata": {
    "collapsed": false,
    "ExecuteTime": {
     "start_time": "2023-04-22T14:12:39.184315Z",
     "end_time": "2023-04-22T14:12:39.198387Z"
    }
   }
  },
  {
   "cell_type": "markdown",
   "source": [
    "## Student 10"
   ],
   "metadata": {
    "collapsed": false
   }
  },
  {
   "cell_type": "code",
   "execution_count": 47,
   "outputs": [],
   "source": [
    "st10txt = \"It was clear and easy to go through but longer than other chapters.\""
   ],
   "metadata": {
    "collapsed": false,
    "ExecuteTime": {
     "start_time": "2023-04-22T14:13:05.857871Z",
     "end_time": "2023-04-22T14:13:05.863378Z"
    }
   }
  },
  {
   "cell_type": "code",
   "execution_count": 48,
   "outputs": [],
   "source": [
    "scores10 = analyzer.polarity_scores(st10txt)"
   ],
   "metadata": {
    "collapsed": false,
    "ExecuteTime": {
     "start_time": "2023-04-22T14:13:06.423055Z",
     "end_time": "2023-04-22T14:13:06.428564Z"
    }
   }
  },
  {
   "cell_type": "code",
   "execution_count": 49,
   "outputs": [
    {
     "name": "stdout",
     "output_type": "stream",
     "text": [
      "{'neg': 0.0, 'neu': 0.746, 'pos': 0.254, 'compound': 0.4118}\n"
     ]
    }
   ],
   "source": [
    "print(scores10)"
   ],
   "metadata": {
    "collapsed": false,
    "ExecuteTime": {
     "start_time": "2023-04-22T14:13:06.743659Z",
     "end_time": "2023-04-22T14:13:06.756173Z"
    }
   }
  },
  {
   "cell_type": "markdown",
   "source": [
    "## Student 11"
   ],
   "metadata": {
    "collapsed": false
   }
  },
  {
   "cell_type": "code",
   "execution_count": 53,
   "outputs": [],
   "source": [
    "st11txt = \"I think it was adequate and very useful in taking into account other people's way of thinking, even so much so as taking other cultures into account. it wasnt too difficult, but that may depend on the individual execution of the excercise\""
   ],
   "metadata": {
    "collapsed": false,
    "ExecuteTime": {
     "start_time": "2023-04-22T14:14:00.888227Z",
     "end_time": "2023-04-22T14:14:00.894738Z"
    }
   }
  },
  {
   "cell_type": "code",
   "execution_count": 54,
   "outputs": [],
   "source": [
    "scores11 = analyzer.polarity_scores(st11txt)"
   ],
   "metadata": {
    "collapsed": false,
    "ExecuteTime": {
     "start_time": "2023-04-22T14:14:01.279584Z",
     "end_time": "2023-04-22T14:14:01.285093Z"
    }
   }
  },
  {
   "cell_type": "code",
   "execution_count": 55,
   "outputs": [
    {
     "name": "stdout",
     "output_type": "stream",
     "text": [
      "{'neg': 0.0, 'neu': 0.882, 'pos': 0.118, 'compound': 0.4769}\n"
     ]
    }
   ],
   "source": [
    "print(scores11)"
   ],
   "metadata": {
    "collapsed": false,
    "ExecuteTime": {
     "start_time": "2023-04-22T14:14:01.669800Z",
     "end_time": "2023-04-22T14:14:01.682364Z"
    }
   }
  },
  {
   "cell_type": "markdown",
   "source": [
    "## Student 12"
   ],
   "metadata": {
    "collapsed": false
   }
  },
  {
   "cell_type": "code",
   "execution_count": 56,
   "outputs": [],
   "source": [
    "st12txt = \"The chapter is all about Transparency in AI and some insights into the Artificial Intelligence system shall be in a transparent state so that the user is able to understand the process of it. <br /> <br /> Some examples were given in terms of Transparency which make it clear to understand.\""
   ],
   "metadata": {
    "collapsed": false,
    "ExecuteTime": {
     "start_time": "2023-04-22T14:14:19.064496Z",
     "end_time": "2023-04-22T14:14:19.070088Z"
    }
   }
  },
  {
   "cell_type": "code",
   "execution_count": 57,
   "outputs": [],
   "source": [
    "scores12 = analyzer.polarity_scores(st12txt)"
   ],
   "metadata": {
    "collapsed": false,
    "ExecuteTime": {
     "start_time": "2023-04-22T14:14:19.299189Z",
     "end_time": "2023-04-22T14:14:19.304799Z"
    }
   }
  },
  {
   "cell_type": "code",
   "execution_count": 58,
   "outputs": [
    {
     "name": "stdout",
     "output_type": "stream",
     "text": [
      "{'neg': 0.0, 'neu': 0.896, 'pos': 0.104, 'compound': 0.6908}\n"
     ]
    }
   ],
   "source": [
    "print(scores12)"
   ],
   "metadata": {
    "collapsed": false,
    "ExecuteTime": {
     "start_time": "2023-04-22T14:14:19.621003Z",
     "end_time": "2023-04-22T14:14:19.626513Z"
    }
   }
  },
  {
   "cell_type": "markdown",
   "source": [
    "## Student 13"
   ],
   "metadata": {
    "collapsed": false
   }
  },
  {
   "cell_type": "code",
   "execution_count": 61,
   "outputs": [],
   "source": [
    "st13txt = \"This chapter gave me a better understanding of transparency. And I also got to know the notion of blackbox term in Artifial intelligence.\""
   ],
   "metadata": {
    "collapsed": false,
    "ExecuteTime": {
     "start_time": "2023-04-22T14:14:39.310307Z",
     "end_time": "2023-04-22T14:14:39.334618Z"
    }
   }
  },
  {
   "cell_type": "code",
   "execution_count": 62,
   "outputs": [],
   "source": [
    "scores13 = analyzer.polarity_scores(st13txt)"
   ],
   "metadata": {
    "collapsed": false,
    "ExecuteTime": {
     "start_time": "2023-04-22T14:14:39.857596Z",
     "end_time": "2023-04-22T14:14:39.864122Z"
    }
   }
  },
  {
   "cell_type": "code",
   "execution_count": 63,
   "outputs": [
    {
     "name": "stdout",
     "output_type": "stream",
     "text": [
      "{'neg': 0.0, 'neu': 0.76, 'pos': 0.24, 'compound': 0.7184}\n"
     ]
    }
   ],
   "source": [
    "print(scores13)"
   ],
   "metadata": {
    "collapsed": false,
    "ExecuteTime": {
     "start_time": "2023-04-22T14:14:40.226823Z",
     "end_time": "2023-04-22T14:14:40.240332Z"
    }
   }
  },
  {
   "cell_type": "markdown",
   "source": [
    "## Student 14"
   ],
   "metadata": {
    "collapsed": false
   }
  },
  {
   "cell_type": "code",
   "execution_count": 65,
   "outputs": [],
   "source": [
    "st14txt = \"Please do not make a feedback field mandatory!<br /> <br /> It was more precise than the last few chapters. Questions also were straightforward. <br /> Perhaps not everyone can answer the question with the RL approach since to understand the question you probably need an understanding of that approach but if you do not know it, how do you want to compare representations of it?<br /> <br /> In the Text of the learning module at some points there was an image-- or so, I don't know why.\""
   ],
   "metadata": {
    "collapsed": false,
    "ExecuteTime": {
     "start_time": "2023-04-22T14:15:02.559189Z",
     "end_time": "2023-04-22T14:15:02.583945Z"
    }
   }
  },
  {
   "cell_type": "code",
   "execution_count": 67,
   "outputs": [],
   "source": [
    "scores14 = analyzer.polarity_scores(st14txt)"
   ],
   "metadata": {
    "collapsed": false,
    "ExecuteTime": {
     "start_time": "2023-04-22T14:15:36.389541Z",
     "end_time": "2023-04-22T14:15:36.395050Z"
    }
   }
  },
  {
   "cell_type": "code",
   "execution_count": 68,
   "outputs": [
    {
     "name": "stdout",
     "output_type": "stream",
     "text": [
      "{'neg': 0.0, 'neu': 0.962, 'pos': 0.038, 'compound': 0.3382}\n"
     ]
    }
   ],
   "source": [
    "print(scores14)"
   ],
   "metadata": {
    "collapsed": false,
    "ExecuteTime": {
     "start_time": "2023-04-22T14:15:37.248063Z",
     "end_time": "2023-04-22T14:15:37.260168Z"
    }
   }
  },
  {
   "cell_type": "markdown",
   "source": [
    "## Student 15"
   ],
   "metadata": {
    "collapsed": false
   }
  },
  {
   "cell_type": "code",
   "execution_count": 69,
   "outputs": [],
   "source": [
    "st15txt = \"Considering how everyone has their own way of thinking, it is important we find simpler and more general explanations for ai and ai techniques so people won't be misled. This chapter draws our attention to the fact that this might not be as simple and perhaps we need to find multiple definitions to ensure different perspectives are covered.\""
   ],
   "metadata": {
    "collapsed": false,
    "ExecuteTime": {
     "start_time": "2023-04-22T14:15:53.747580Z",
     "end_time": "2023-04-22T14:15:53.761096Z"
    }
   }
  },
  {
   "cell_type": "code",
   "execution_count": 70,
   "outputs": [],
   "source": [
    "scores15 = analyzer.polarity_scores(st15txt)"
   ],
   "metadata": {
    "collapsed": false,
    "ExecuteTime": {
     "start_time": "2023-04-22T14:15:54.563059Z",
     "end_time": "2023-04-22T14:15:54.569064Z"
    }
   }
  },
  {
   "cell_type": "code",
   "execution_count": 71,
   "outputs": [
    {
     "name": "stdout",
     "output_type": "stream",
     "text": [
      "{'neg': 0.0, 'neu': 0.927, 'pos': 0.073, 'compound': 0.5267}\n"
     ]
    }
   ],
   "source": [
    "print(scores15)"
   ],
   "metadata": {
    "collapsed": false,
    "ExecuteTime": {
     "start_time": "2023-04-22T14:15:54.969009Z",
     "end_time": "2023-04-22T14:15:54.975518Z"
    }
   }
  },
  {
   "cell_type": "markdown",
   "source": [
    "## Student 16"
   ],
   "metadata": {
    "collapsed": false
   }
  },
  {
   "cell_type": "code",
   "execution_count": 72,
   "outputs": [],
   "source": [
    "st16txt = \"In the text of the learning module are some images and code missing. I used the original source to get them.\""
   ],
   "metadata": {
    "collapsed": false,
    "ExecuteTime": {
     "start_time": "2023-04-22T14:16:07.340251Z",
     "end_time": "2023-04-22T14:16:07.346801Z"
    }
   }
  },
  {
   "cell_type": "code",
   "execution_count": 73,
   "outputs": [],
   "source": [
    "scores16 = analyzer.polarity_scores(st16txt)"
   ],
   "metadata": {
    "collapsed": false,
    "ExecuteTime": {
     "start_time": "2023-04-22T14:16:07.703281Z",
     "end_time": "2023-04-22T14:16:07.708789Z"
    }
   }
  },
  {
   "cell_type": "code",
   "execution_count": 76,
   "outputs": [
    {
     "name": "stdout",
     "output_type": "stream",
     "text": [
      "{'neg': 0.098, 'neu': 0.8, 'pos': 0.102, 'compound': 0.0258}\n"
     ]
    }
   ],
   "source": [
    "print(scores16)"
   ],
   "metadata": {
    "collapsed": false,
    "ExecuteTime": {
     "start_time": "2023-04-22T14:17:37.919715Z",
     "end_time": "2023-04-22T14:17:37.923221Z"
    }
   }
  },
  {
   "cell_type": "code",
   "execution_count": 77,
   "outputs": [
    {
     "name": "stdout",
     "output_type": "stream",
     "text": [
      "0.48164375\n"
     ]
    }
   ],
   "source": [
    "# create a list of dictionaries to add\n",
    "scores_list = [scores1, scores2, scores3, scores4, scores5, scores6, scores7, scores8,\n",
    "               scores9, scores10, scores11, scores12, scores13, scores14, scores15, scores16]\n",
    "\n",
    "# specify the key i need, in this case, compound\n",
    "key = 'compound'\n",
    "\n",
    "# create a list to store the values of each key that i will extract from each dict\n",
    "values_list = []\n",
    "\n",
    "# loop over the list of dictionaries and extract the values for the specific key\n",
    "for d in scores_list:\n",
    "    if key in d:\n",
    "        values_list.append(d[key])\n",
    "\n",
    "# calculate the average of the values:\n",
    "average = np.mean(values_list)\n",
    "\n",
    "print(average)"
   ],
   "metadata": {
    "collapsed": false,
    "ExecuteTime": {
     "start_time": "2023-04-22T14:17:38.269591Z",
     "end_time": "2023-04-22T14:17:38.277101Z"
    }
   }
  },
  {
   "cell_type": "markdown",
   "source": [
    "# Week 4/ chapter 4 scores\n",
    "\n",
    "### The average score for week one sentiment analysis is 0.481 (1 being the most positive, 0 neutral, and -1 being negative)"
   ],
   "metadata": {
    "collapsed": false
   }
  },
  {
   "cell_type": "code",
   "execution_count": null,
   "outputs": [],
   "source": [],
   "metadata": {
    "collapsed": false
   }
  }
 ],
 "metadata": {
  "kernelspec": {
   "display_name": "Python 3",
   "language": "python",
   "name": "python3"
  },
  "language_info": {
   "codemirror_mode": {
    "name": "ipython",
    "version": 2
   },
   "file_extension": ".py",
   "mimetype": "text/x-python",
   "name": "python",
   "nbconvert_exporter": "python",
   "pygments_lexer": "ipython2",
   "version": "2.7.6"
  }
 },
 "nbformat": 4,
 "nbformat_minor": 0
}
